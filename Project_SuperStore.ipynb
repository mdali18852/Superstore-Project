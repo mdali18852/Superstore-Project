{
  "cells": [
    {
      "cell_type": "markdown",
      "metadata": {
        "id": "J-adTQXQxNs5"
      },
      "source": [
        "#E-Comerce Datasets Projects\n"
      ]
    },
    {
      "cell_type": "code",
      "execution_count": null,
      "metadata": {
        "id": "5CX5903ExCFi"
      },
      "outputs": [],
      "source": [
        "import numpy as np\n",
        "import pandas as pd\n",
        "import matplotlib.pyplot as plt"
      ]
    },
    {
      "cell_type": "code",
      "execution_count": null,
      "metadata": {
        "colab": {
          "base_uri": "https://localhost:8080/"
        },
        "id": "rxMV6cpNy8EG",
        "outputId": "a76e29b8-594e-4983-959d-afc1384a8228"
      },
      "outputs": [
        {
          "output_type": "stream",
          "name": "stdout",
          "text": [
            "0.13.2\n"
          ]
        }
      ],
      "source": [
        "import seaborn as sns\n",
        "print(sns.__version__)"
      ]
    },
    {
      "cell_type": "code",
      "source": [
        "dataset=pd.read_excel('Superstore_USA.xlsx')"
      ],
      "metadata": {
        "id": "XEKUOJz0zQJG"
      },
      "execution_count": null,
      "outputs": []
    },
    {
      "cell_type": "code",
      "source": [
        "dataset.head(5)"
      ],
      "metadata": {
        "colab": {
          "base_uri": "https://localhost:8080/",
          "height": 377
        },
        "id": "pv1NTNz8zi_P",
        "outputId": "9e086674-8c74-44fc-d350-ae9053df63bf"
      },
      "execution_count": null,
      "outputs": [
        {
          "output_type": "execute_result",
          "data": {
            "text/plain": [
              "   Row ID Order Priority  Discount  Unit Price  Shipping Cost  Customer ID  \\\n",
              "0   18606  Not Specified      0.01        2.88           0.50            2   \n",
              "1   20847           High      0.01        2.84           0.93            3   \n",
              "2   23086  Not Specified      0.03        6.68           6.15            3   \n",
              "3   23087  Not Specified      0.01        5.68           3.60            3   \n",
              "4   23088  Not Specified      0.00      205.99           2.50            3   \n",
              "\n",
              "     Customer Name    Ship Mode Customer Segment Product Category  ...  \\\n",
              "0  Janice Fletcher  Regular Air        Corporate  Office Supplies  ...   \n",
              "1    Bonnie Potter  Express Air        Corporate  Office Supplies  ...   \n",
              "2    Bonnie Potter  Express Air        Corporate  Office Supplies  ...   \n",
              "3    Bonnie Potter  Regular Air        Corporate  Office Supplies  ...   \n",
              "4    Bonnie Potter  Express Air        Corporate       Technology  ...   \n",
              "\n",
              "    Region State or Province       City  Postal Code Order Date  Ship Date  \\\n",
              "0  Central          Illinois    Addison        60101 2012-05-28 2012-05-30   \n",
              "1     West        Washington  Anacortes        98221 2010-07-07 2010-07-08   \n",
              "2     West        Washington  Anacortes        98221 2011-07-27 2011-07-28   \n",
              "3     West        Washington  Anacortes        98221 2011-07-27 2011-07-28   \n",
              "4     West        Washington  Anacortes        98221 2011-07-27 2011-07-27   \n",
              "\n",
              "     Profit  Quantity ordered new    Sales Order ID  \n",
              "0    1.3200                     2     5.90    88525  \n",
              "1    4.5600                     4    13.01    88522  \n",
              "2  -47.6400                     7    49.92    88523  \n",
              "3  -30.5100                     7    41.64    88523  \n",
              "4  998.2023                     8  1446.67    88523  \n",
              "\n",
              "[5 rows x 24 columns]"
            ],
            "text/html": [
              "\n",
              "  <div id=\"df-2fc76f02-6f61-491e-84b6-8c6923046d74\" class=\"colab-df-container\">\n",
              "    <div>\n",
              "<style scoped>\n",
              "    .dataframe tbody tr th:only-of-type {\n",
              "        vertical-align: middle;\n",
              "    }\n",
              "\n",
              "    .dataframe tbody tr th {\n",
              "        vertical-align: top;\n",
              "    }\n",
              "\n",
              "    .dataframe thead th {\n",
              "        text-align: right;\n",
              "    }\n",
              "</style>\n",
              "<table border=\"1\" class=\"dataframe\">\n",
              "  <thead>\n",
              "    <tr style=\"text-align: right;\">\n",
              "      <th></th>\n",
              "      <th>Row ID</th>\n",
              "      <th>Order Priority</th>\n",
              "      <th>Discount</th>\n",
              "      <th>Unit Price</th>\n",
              "      <th>Shipping Cost</th>\n",
              "      <th>Customer ID</th>\n",
              "      <th>Customer Name</th>\n",
              "      <th>Ship Mode</th>\n",
              "      <th>Customer Segment</th>\n",
              "      <th>Product Category</th>\n",
              "      <th>...</th>\n",
              "      <th>Region</th>\n",
              "      <th>State or Province</th>\n",
              "      <th>City</th>\n",
              "      <th>Postal Code</th>\n",
              "      <th>Order Date</th>\n",
              "      <th>Ship Date</th>\n",
              "      <th>Profit</th>\n",
              "      <th>Quantity ordered new</th>\n",
              "      <th>Sales</th>\n",
              "      <th>Order ID</th>\n",
              "    </tr>\n",
              "  </thead>\n",
              "  <tbody>\n",
              "    <tr>\n",
              "      <th>0</th>\n",
              "      <td>18606</td>\n",
              "      <td>Not Specified</td>\n",
              "      <td>0.01</td>\n",
              "      <td>2.88</td>\n",
              "      <td>0.50</td>\n",
              "      <td>2</td>\n",
              "      <td>Janice Fletcher</td>\n",
              "      <td>Regular Air</td>\n",
              "      <td>Corporate</td>\n",
              "      <td>Office Supplies</td>\n",
              "      <td>...</td>\n",
              "      <td>Central</td>\n",
              "      <td>Illinois</td>\n",
              "      <td>Addison</td>\n",
              "      <td>60101</td>\n",
              "      <td>2012-05-28</td>\n",
              "      <td>2012-05-30</td>\n",
              "      <td>1.3200</td>\n",
              "      <td>2</td>\n",
              "      <td>5.90</td>\n",
              "      <td>88525</td>\n",
              "    </tr>\n",
              "    <tr>\n",
              "      <th>1</th>\n",
              "      <td>20847</td>\n",
              "      <td>High</td>\n",
              "      <td>0.01</td>\n",
              "      <td>2.84</td>\n",
              "      <td>0.93</td>\n",
              "      <td>3</td>\n",
              "      <td>Bonnie Potter</td>\n",
              "      <td>Express Air</td>\n",
              "      <td>Corporate</td>\n",
              "      <td>Office Supplies</td>\n",
              "      <td>...</td>\n",
              "      <td>West</td>\n",
              "      <td>Washington</td>\n",
              "      <td>Anacortes</td>\n",
              "      <td>98221</td>\n",
              "      <td>2010-07-07</td>\n",
              "      <td>2010-07-08</td>\n",
              "      <td>4.5600</td>\n",
              "      <td>4</td>\n",
              "      <td>13.01</td>\n",
              "      <td>88522</td>\n",
              "    </tr>\n",
              "    <tr>\n",
              "      <th>2</th>\n",
              "      <td>23086</td>\n",
              "      <td>Not Specified</td>\n",
              "      <td>0.03</td>\n",
              "      <td>6.68</td>\n",
              "      <td>6.15</td>\n",
              "      <td>3</td>\n",
              "      <td>Bonnie Potter</td>\n",
              "      <td>Express Air</td>\n",
              "      <td>Corporate</td>\n",
              "      <td>Office Supplies</td>\n",
              "      <td>...</td>\n",
              "      <td>West</td>\n",
              "      <td>Washington</td>\n",
              "      <td>Anacortes</td>\n",
              "      <td>98221</td>\n",
              "      <td>2011-07-27</td>\n",
              "      <td>2011-07-28</td>\n",
              "      <td>-47.6400</td>\n",
              "      <td>7</td>\n",
              "      <td>49.92</td>\n",
              "      <td>88523</td>\n",
              "    </tr>\n",
              "    <tr>\n",
              "      <th>3</th>\n",
              "      <td>23087</td>\n",
              "      <td>Not Specified</td>\n",
              "      <td>0.01</td>\n",
              "      <td>5.68</td>\n",
              "      <td>3.60</td>\n",
              "      <td>3</td>\n",
              "      <td>Bonnie Potter</td>\n",
              "      <td>Regular Air</td>\n",
              "      <td>Corporate</td>\n",
              "      <td>Office Supplies</td>\n",
              "      <td>...</td>\n",
              "      <td>West</td>\n",
              "      <td>Washington</td>\n",
              "      <td>Anacortes</td>\n",
              "      <td>98221</td>\n",
              "      <td>2011-07-27</td>\n",
              "      <td>2011-07-28</td>\n",
              "      <td>-30.5100</td>\n",
              "      <td>7</td>\n",
              "      <td>41.64</td>\n",
              "      <td>88523</td>\n",
              "    </tr>\n",
              "    <tr>\n",
              "      <th>4</th>\n",
              "      <td>23088</td>\n",
              "      <td>Not Specified</td>\n",
              "      <td>0.00</td>\n",
              "      <td>205.99</td>\n",
              "      <td>2.50</td>\n",
              "      <td>3</td>\n",
              "      <td>Bonnie Potter</td>\n",
              "      <td>Express Air</td>\n",
              "      <td>Corporate</td>\n",
              "      <td>Technology</td>\n",
              "      <td>...</td>\n",
              "      <td>West</td>\n",
              "      <td>Washington</td>\n",
              "      <td>Anacortes</td>\n",
              "      <td>98221</td>\n",
              "      <td>2011-07-27</td>\n",
              "      <td>2011-07-27</td>\n",
              "      <td>998.2023</td>\n",
              "      <td>8</td>\n",
              "      <td>1446.67</td>\n",
              "      <td>88523</td>\n",
              "    </tr>\n",
              "  </tbody>\n",
              "</table>\n",
              "<p>5 rows × 24 columns</p>\n",
              "</div>\n",
              "    <div class=\"colab-df-buttons\">\n",
              "\n",
              "  <div class=\"colab-df-container\">\n",
              "    <button class=\"colab-df-convert\" onclick=\"convertToInteractive('df-2fc76f02-6f61-491e-84b6-8c6923046d74')\"\n",
              "            title=\"Convert this dataframe to an interactive table.\"\n",
              "            style=\"display:none;\">\n",
              "\n",
              "  <svg xmlns=\"http://www.w3.org/2000/svg\" height=\"24px\" viewBox=\"0 -960 960 960\">\n",
              "    <path d=\"M120-120v-720h720v720H120Zm60-500h600v-160H180v160Zm220 220h160v-160H400v160Zm0 220h160v-160H400v160ZM180-400h160v-160H180v160Zm440 0h160v-160H620v160ZM180-180h160v-160H180v160Zm440 0h160v-160H620v160Z\"/>\n",
              "  </svg>\n",
              "    </button>\n",
              "\n",
              "  <style>\n",
              "    .colab-df-container {\n",
              "      display:flex;\n",
              "      gap: 12px;\n",
              "    }\n",
              "\n",
              "    .colab-df-convert {\n",
              "      background-color: #E8F0FE;\n",
              "      border: none;\n",
              "      border-radius: 50%;\n",
              "      cursor: pointer;\n",
              "      display: none;\n",
              "      fill: #1967D2;\n",
              "      height: 32px;\n",
              "      padding: 0 0 0 0;\n",
              "      width: 32px;\n",
              "    }\n",
              "\n",
              "    .colab-df-convert:hover {\n",
              "      background-color: #E2EBFA;\n",
              "      box-shadow: 0px 1px 2px rgba(60, 64, 67, 0.3), 0px 1px 3px 1px rgba(60, 64, 67, 0.15);\n",
              "      fill: #174EA6;\n",
              "    }\n",
              "\n",
              "    .colab-df-buttons div {\n",
              "      margin-bottom: 4px;\n",
              "    }\n",
              "\n",
              "    [theme=dark] .colab-df-convert {\n",
              "      background-color: #3B4455;\n",
              "      fill: #D2E3FC;\n",
              "    }\n",
              "\n",
              "    [theme=dark] .colab-df-convert:hover {\n",
              "      background-color: #434B5C;\n",
              "      box-shadow: 0px 1px 3px 1px rgba(0, 0, 0, 0.15);\n",
              "      filter: drop-shadow(0px 1px 2px rgba(0, 0, 0, 0.3));\n",
              "      fill: #FFFFFF;\n",
              "    }\n",
              "  </style>\n",
              "\n",
              "    <script>\n",
              "      const buttonEl =\n",
              "        document.querySelector('#df-2fc76f02-6f61-491e-84b6-8c6923046d74 button.colab-df-convert');\n",
              "      buttonEl.style.display =\n",
              "        google.colab.kernel.accessAllowed ? 'block' : 'none';\n",
              "\n",
              "      async function convertToInteractive(key) {\n",
              "        const element = document.querySelector('#df-2fc76f02-6f61-491e-84b6-8c6923046d74');\n",
              "        const dataTable =\n",
              "          await google.colab.kernel.invokeFunction('convertToInteractive',\n",
              "                                                    [key], {});\n",
              "        if (!dataTable) return;\n",
              "\n",
              "        const docLinkHtml = 'Like what you see? Visit the ' +\n",
              "          '<a target=\"_blank\" href=https://colab.research.google.com/notebooks/data_table.ipynb>data table notebook</a>'\n",
              "          + ' to learn more about interactive tables.';\n",
              "        element.innerHTML = '';\n",
              "        dataTable['output_type'] = 'display_data';\n",
              "        await google.colab.output.renderOutput(dataTable, element);\n",
              "        const docLink = document.createElement('div');\n",
              "        docLink.innerHTML = docLinkHtml;\n",
              "        element.appendChild(docLink);\n",
              "      }\n",
              "    </script>\n",
              "  </div>\n",
              "\n",
              "\n",
              "<div id=\"df-02539d67-52ae-4be0-af6a-ddb55ea7a076\">\n",
              "  <button class=\"colab-df-quickchart\" onclick=\"quickchart('df-02539d67-52ae-4be0-af6a-ddb55ea7a076')\"\n",
              "            title=\"Suggest charts\"\n",
              "            style=\"display:none;\">\n",
              "\n",
              "<svg xmlns=\"http://www.w3.org/2000/svg\" height=\"24px\"viewBox=\"0 0 24 24\"\n",
              "     width=\"24px\">\n",
              "    <g>\n",
              "        <path d=\"M19 3H5c-1.1 0-2 .9-2 2v14c0 1.1.9 2 2 2h14c1.1 0 2-.9 2-2V5c0-1.1-.9-2-2-2zM9 17H7v-7h2v7zm4 0h-2V7h2v10zm4 0h-2v-4h2v4z\"/>\n",
              "    </g>\n",
              "</svg>\n",
              "  </button>\n",
              "\n",
              "<style>\n",
              "  .colab-df-quickchart {\n",
              "      --bg-color: #E8F0FE;\n",
              "      --fill-color: #1967D2;\n",
              "      --hover-bg-color: #E2EBFA;\n",
              "      --hover-fill-color: #174EA6;\n",
              "      --disabled-fill-color: #AAA;\n",
              "      --disabled-bg-color: #DDD;\n",
              "  }\n",
              "\n",
              "  [theme=dark] .colab-df-quickchart {\n",
              "      --bg-color: #3B4455;\n",
              "      --fill-color: #D2E3FC;\n",
              "      --hover-bg-color: #434B5C;\n",
              "      --hover-fill-color: #FFFFFF;\n",
              "      --disabled-bg-color: #3B4455;\n",
              "      --disabled-fill-color: #666;\n",
              "  }\n",
              "\n",
              "  .colab-df-quickchart {\n",
              "    background-color: var(--bg-color);\n",
              "    border: none;\n",
              "    border-radius: 50%;\n",
              "    cursor: pointer;\n",
              "    display: none;\n",
              "    fill: var(--fill-color);\n",
              "    height: 32px;\n",
              "    padding: 0;\n",
              "    width: 32px;\n",
              "  }\n",
              "\n",
              "  .colab-df-quickchart:hover {\n",
              "    background-color: var(--hover-bg-color);\n",
              "    box-shadow: 0 1px 2px rgba(60, 64, 67, 0.3), 0 1px 3px 1px rgba(60, 64, 67, 0.15);\n",
              "    fill: var(--button-hover-fill-color);\n",
              "  }\n",
              "\n",
              "  .colab-df-quickchart-complete:disabled,\n",
              "  .colab-df-quickchart-complete:disabled:hover {\n",
              "    background-color: var(--disabled-bg-color);\n",
              "    fill: var(--disabled-fill-color);\n",
              "    box-shadow: none;\n",
              "  }\n",
              "\n",
              "  .colab-df-spinner {\n",
              "    border: 2px solid var(--fill-color);\n",
              "    border-color: transparent;\n",
              "    border-bottom-color: var(--fill-color);\n",
              "    animation:\n",
              "      spin 1s steps(1) infinite;\n",
              "  }\n",
              "\n",
              "  @keyframes spin {\n",
              "    0% {\n",
              "      border-color: transparent;\n",
              "      border-bottom-color: var(--fill-color);\n",
              "      border-left-color: var(--fill-color);\n",
              "    }\n",
              "    20% {\n",
              "      border-color: transparent;\n",
              "      border-left-color: var(--fill-color);\n",
              "      border-top-color: var(--fill-color);\n",
              "    }\n",
              "    30% {\n",
              "      border-color: transparent;\n",
              "      border-left-color: var(--fill-color);\n",
              "      border-top-color: var(--fill-color);\n",
              "      border-right-color: var(--fill-color);\n",
              "    }\n",
              "    40% {\n",
              "      border-color: transparent;\n",
              "      border-right-color: var(--fill-color);\n",
              "      border-top-color: var(--fill-color);\n",
              "    }\n",
              "    60% {\n",
              "      border-color: transparent;\n",
              "      border-right-color: var(--fill-color);\n",
              "    }\n",
              "    80% {\n",
              "      border-color: transparent;\n",
              "      border-right-color: var(--fill-color);\n",
              "      border-bottom-color: var(--fill-color);\n",
              "    }\n",
              "    90% {\n",
              "      border-color: transparent;\n",
              "      border-bottom-color: var(--fill-color);\n",
              "    }\n",
              "  }\n",
              "</style>\n",
              "\n",
              "  <script>\n",
              "    async function quickchart(key) {\n",
              "      const quickchartButtonEl =\n",
              "        document.querySelector('#' + key + ' button');\n",
              "      quickchartButtonEl.disabled = true;  // To prevent multiple clicks.\n",
              "      quickchartButtonEl.classList.add('colab-df-spinner');\n",
              "      try {\n",
              "        const charts = await google.colab.kernel.invokeFunction(\n",
              "            'suggestCharts', [key], {});\n",
              "      } catch (error) {\n",
              "        console.error('Error during call to suggestCharts:', error);\n",
              "      }\n",
              "      quickchartButtonEl.classList.remove('colab-df-spinner');\n",
              "      quickchartButtonEl.classList.add('colab-df-quickchart-complete');\n",
              "    }\n",
              "    (() => {\n",
              "      let quickchartButtonEl =\n",
              "        document.querySelector('#df-02539d67-52ae-4be0-af6a-ddb55ea7a076 button');\n",
              "      quickchartButtonEl.style.display =\n",
              "        google.colab.kernel.accessAllowed ? 'block' : 'none';\n",
              "    })();\n",
              "  </script>\n",
              "</div>\n",
              "\n",
              "    </div>\n",
              "  </div>\n"
            ],
            "application/vnd.google.colaboratory.intrinsic+json": {
              "type": "dataframe",
              "variable_name": "dataset"
            }
          },
          "metadata": {},
          "execution_count": 5
        }
      ]
    },
    {
      "cell_type": "code",
      "source": [
        "dataset.isnull().sum()"
      ],
      "metadata": {
        "colab": {
          "base_uri": "https://localhost:8080/",
          "height": 836
        },
        "id": "CshaX1Nuz0GM",
        "outputId": "426566b9-36ff-4d26-c285-ab251708ab9d"
      },
      "execution_count": null,
      "outputs": [
        {
          "output_type": "execute_result",
          "data": {
            "text/plain": [
              "Row ID                   0\n",
              "Order Priority           0\n",
              "Discount                 0\n",
              "Unit Price               0\n",
              "Shipping Cost            0\n",
              "Customer ID              0\n",
              "Customer Name            0\n",
              "Ship Mode                0\n",
              "Customer Segment         0\n",
              "Product Category         0\n",
              "Product Sub-Category     0\n",
              "Product Container        0\n",
              "Product Name             0\n",
              "Product Base Margin     72\n",
              "Region                   0\n",
              "State or Province        0\n",
              "City                     0\n",
              "Postal Code              0\n",
              "Order Date               0\n",
              "Ship Date                0\n",
              "Profit                   0\n",
              "Quantity ordered new     0\n",
              "Sales                    0\n",
              "Order ID                 0\n",
              "dtype: int64"
            ],
            "text/html": [
              "<div>\n",
              "<style scoped>\n",
              "    .dataframe tbody tr th:only-of-type {\n",
              "        vertical-align: middle;\n",
              "    }\n",
              "\n",
              "    .dataframe tbody tr th {\n",
              "        vertical-align: top;\n",
              "    }\n",
              "\n",
              "    .dataframe thead th {\n",
              "        text-align: right;\n",
              "    }\n",
              "</style>\n",
              "<table border=\"1\" class=\"dataframe\">\n",
              "  <thead>\n",
              "    <tr style=\"text-align: right;\">\n",
              "      <th></th>\n",
              "      <th>0</th>\n",
              "    </tr>\n",
              "  </thead>\n",
              "  <tbody>\n",
              "    <tr>\n",
              "      <th>Row ID</th>\n",
              "      <td>0</td>\n",
              "    </tr>\n",
              "    <tr>\n",
              "      <th>Order Priority</th>\n",
              "      <td>0</td>\n",
              "    </tr>\n",
              "    <tr>\n",
              "      <th>Discount</th>\n",
              "      <td>0</td>\n",
              "    </tr>\n",
              "    <tr>\n",
              "      <th>Unit Price</th>\n",
              "      <td>0</td>\n",
              "    </tr>\n",
              "    <tr>\n",
              "      <th>Shipping Cost</th>\n",
              "      <td>0</td>\n",
              "    </tr>\n",
              "    <tr>\n",
              "      <th>Customer ID</th>\n",
              "      <td>0</td>\n",
              "    </tr>\n",
              "    <tr>\n",
              "      <th>Customer Name</th>\n",
              "      <td>0</td>\n",
              "    </tr>\n",
              "    <tr>\n",
              "      <th>Ship Mode</th>\n",
              "      <td>0</td>\n",
              "    </tr>\n",
              "    <tr>\n",
              "      <th>Customer Segment</th>\n",
              "      <td>0</td>\n",
              "    </tr>\n",
              "    <tr>\n",
              "      <th>Product Category</th>\n",
              "      <td>0</td>\n",
              "    </tr>\n",
              "    <tr>\n",
              "      <th>Product Sub-Category</th>\n",
              "      <td>0</td>\n",
              "    </tr>\n",
              "    <tr>\n",
              "      <th>Product Container</th>\n",
              "      <td>0</td>\n",
              "    </tr>\n",
              "    <tr>\n",
              "      <th>Product Name</th>\n",
              "      <td>0</td>\n",
              "    </tr>\n",
              "    <tr>\n",
              "      <th>Product Base Margin</th>\n",
              "      <td>72</td>\n",
              "    </tr>\n",
              "    <tr>\n",
              "      <th>Region</th>\n",
              "      <td>0</td>\n",
              "    </tr>\n",
              "    <tr>\n",
              "      <th>State or Province</th>\n",
              "      <td>0</td>\n",
              "    </tr>\n",
              "    <tr>\n",
              "      <th>City</th>\n",
              "      <td>0</td>\n",
              "    </tr>\n",
              "    <tr>\n",
              "      <th>Postal Code</th>\n",
              "      <td>0</td>\n",
              "    </tr>\n",
              "    <tr>\n",
              "      <th>Order Date</th>\n",
              "      <td>0</td>\n",
              "    </tr>\n",
              "    <tr>\n",
              "      <th>Ship Date</th>\n",
              "      <td>0</td>\n",
              "    </tr>\n",
              "    <tr>\n",
              "      <th>Profit</th>\n",
              "      <td>0</td>\n",
              "    </tr>\n",
              "    <tr>\n",
              "      <th>Quantity ordered new</th>\n",
              "      <td>0</td>\n",
              "    </tr>\n",
              "    <tr>\n",
              "      <th>Sales</th>\n",
              "      <td>0</td>\n",
              "    </tr>\n",
              "    <tr>\n",
              "      <th>Order ID</th>\n",
              "      <td>0</td>\n",
              "    </tr>\n",
              "  </tbody>\n",
              "</table>\n",
              "</div><br><label><b>dtype:</b> int64</label>"
            ]
          },
          "metadata": {},
          "execution_count": 9
        }
      ]
    },
    {
      "cell_type": "code",
      "source": [
        "#Fill the mean value, where is null value present\n",
        "\n",
        "dataset['Product Base Margin'].fillna(dataset['Product Base Margin'].mean(), inplace=True)"
      ],
      "metadata": {
        "id": "COp0cBGSY4Pu",
        "colab": {
          "base_uri": "https://localhost:8080/"
        },
        "outputId": "11376f5a-f073-4efa-a583-a1e5329b552f"
      },
      "execution_count": null,
      "outputs": [
        {
          "output_type": "stream",
          "name": "stderr",
          "text": [
            "<ipython-input-57-f2d4604e27d1>:3: FutureWarning: A value is trying to be set on a copy of a DataFrame or Series through chained assignment using an inplace method.\n",
            "The behavior will change in pandas 3.0. This inplace method will never work because the intermediate object on which we are setting values always behaves as a copy.\n",
            "\n",
            "For example, when doing 'df[col].method(value, inplace=True)', try using 'df.method({col: value}, inplace=True)' or df[col] = df[col].method(value) instead, to perform the operation inplace on the original object.\n",
            "\n",
            "\n",
            "  dataset['Product Base Margin'].fillna(dataset['Product Base Margin'].mean(), inplace=True)\n"
          ]
        }
      ]
    },
    {
      "cell_type": "code",
      "source": [
        "dataset"
      ],
      "metadata": {
        "colab": {
          "base_uri": "https://localhost:8080/",
          "height": 652
        },
        "id": "uMHyfEoNZUYH",
        "outputId": "f5b33fa6-32ec-417f-c031-68bae4e403e8"
      },
      "execution_count": null,
      "outputs": [
        {
          "output_type": "execute_result",
          "data": {
            "text/plain": [
              "      Row ID Order Priority  Discount  Unit Price  Shipping Cost  Customer ID  \\\n",
              "0      18606  Not Specified      0.01        2.88           0.50            2   \n",
              "1      20847           High      0.01        2.84           0.93            3   \n",
              "2      23086  Not Specified      0.03        6.68           6.15            3   \n",
              "3      23087  Not Specified      0.01        5.68           3.60            3   \n",
              "4      23088  Not Specified      0.00      205.99           2.50            3   \n",
              "...      ...            ...       ...         ...            ...          ...   \n",
              "9421   20275       Critical      0.06       35.89          14.72         3402   \n",
              "9422   20276       Critical      0.00        3.34           7.49         3402   \n",
              "9423   24491  Not Specified      0.08      550.98          45.70         3402   \n",
              "9424   25914           High      0.10      105.98          13.99         3403   \n",
              "9425   24492  Not Specified      0.09        7.78           2.50         3403   \n",
              "\n",
              "        Customer Name       Ship Mode Customer Segment Product Category  ...  \\\n",
              "0     Janice Fletcher     Regular Air        Corporate  Office Supplies  ...   \n",
              "1       Bonnie Potter     Express Air        Corporate  Office Supplies  ...   \n",
              "2       Bonnie Potter     Express Air        Corporate  Office Supplies  ...   \n",
              "3       Bonnie Potter     Regular Air        Corporate  Office Supplies  ...   \n",
              "4       Bonnie Potter     Express Air        Corporate       Technology  ...   \n",
              "...               ...             ...              ...              ...  ...   \n",
              "9421   Frederick Cole     Regular Air         Consumer  Office Supplies  ...   \n",
              "9422   Frederick Cole     Regular Air         Consumer  Office Supplies  ...   \n",
              "9423   Frederick Cole  Delivery Truck         Consumer        Furniture  ...   \n",
              "9424    Tammy Buckley     Express Air         Consumer        Furniture  ...   \n",
              "9425    Tammy Buckley     Express Air         Consumer  Office Supplies  ...   \n",
              "\n",
              "       Region State or Province        City  Postal Code Order Date  \\\n",
              "0     Central          Illinois     Addison        60101 2012-05-28   \n",
              "1        West        Washington   Anacortes        98221 2010-07-07   \n",
              "2        West        Washington   Anacortes        98221 2011-07-27   \n",
              "3        West        Washington   Anacortes        98221 2011-07-27   \n",
              "4        West        Washington   Anacortes        98221 2011-07-27   \n",
              "...       ...               ...         ...          ...        ...   \n",
              "9421     East     West Virginia  Charleston        25314 2013-05-14   \n",
              "9422     East     West Virginia  Charleston        25314 2013-05-14   \n",
              "9423     East     West Virginia  Charleston        25314 2013-09-12   \n",
              "9424     West           Wyoming    Cheyenne        82001 2010-02-08   \n",
              "9425     West           Wyoming    Cheyenne        82001 2013-09-12   \n",
              "\n",
              "      Ship Date       Profit  Quantity ordered new    Sales Order ID  \n",
              "0    2012-05-30     1.320000                     2     5.90    88525  \n",
              "1    2010-07-08     4.560000                     4    13.01    88522  \n",
              "2    2011-07-28   -47.640000                     7    49.92    88523  \n",
              "3    2011-07-28   -30.510000                     7    41.64    88523  \n",
              "4    2011-07-27   998.202300                     8  1446.67    88523  \n",
              "...         ...          ...                   ...      ...      ...  \n",
              "9421 2013-05-15   137.860000                    13   447.87    87532  \n",
              "9422 2013-05-14   -39.070000                     3    13.23    87532  \n",
              "9423 2013-09-14 -1225.029097                     4  2215.93    87533  \n",
              "9424 2010-02-11   349.485000                     5   506.50    87530  \n",
              "9425 2013-09-14    78.062400                    23   172.48    87533  \n",
              "\n",
              "[9426 rows x 24 columns]"
            ],
            "text/html": [
              "\n",
              "  <div id=\"df-f127d6d7-d3dd-4898-bf57-1455f291ab99\" class=\"colab-df-container\">\n",
              "    <div>\n",
              "<style scoped>\n",
              "    .dataframe tbody tr th:only-of-type {\n",
              "        vertical-align: middle;\n",
              "    }\n",
              "\n",
              "    .dataframe tbody tr th {\n",
              "        vertical-align: top;\n",
              "    }\n",
              "\n",
              "    .dataframe thead th {\n",
              "        text-align: right;\n",
              "    }\n",
              "</style>\n",
              "<table border=\"1\" class=\"dataframe\">\n",
              "  <thead>\n",
              "    <tr style=\"text-align: right;\">\n",
              "      <th></th>\n",
              "      <th>Row ID</th>\n",
              "      <th>Order Priority</th>\n",
              "      <th>Discount</th>\n",
              "      <th>Unit Price</th>\n",
              "      <th>Shipping Cost</th>\n",
              "      <th>Customer ID</th>\n",
              "      <th>Customer Name</th>\n",
              "      <th>Ship Mode</th>\n",
              "      <th>Customer Segment</th>\n",
              "      <th>Product Category</th>\n",
              "      <th>...</th>\n",
              "      <th>Region</th>\n",
              "      <th>State or Province</th>\n",
              "      <th>City</th>\n",
              "      <th>Postal Code</th>\n",
              "      <th>Order Date</th>\n",
              "      <th>Ship Date</th>\n",
              "      <th>Profit</th>\n",
              "      <th>Quantity ordered new</th>\n",
              "      <th>Sales</th>\n",
              "      <th>Order ID</th>\n",
              "    </tr>\n",
              "  </thead>\n",
              "  <tbody>\n",
              "    <tr>\n",
              "      <th>0</th>\n",
              "      <td>18606</td>\n",
              "      <td>Not Specified</td>\n",
              "      <td>0.01</td>\n",
              "      <td>2.88</td>\n",
              "      <td>0.50</td>\n",
              "      <td>2</td>\n",
              "      <td>Janice Fletcher</td>\n",
              "      <td>Regular Air</td>\n",
              "      <td>Corporate</td>\n",
              "      <td>Office Supplies</td>\n",
              "      <td>...</td>\n",
              "      <td>Central</td>\n",
              "      <td>Illinois</td>\n",
              "      <td>Addison</td>\n",
              "      <td>60101</td>\n",
              "      <td>2012-05-28</td>\n",
              "      <td>2012-05-30</td>\n",
              "      <td>1.320000</td>\n",
              "      <td>2</td>\n",
              "      <td>5.90</td>\n",
              "      <td>88525</td>\n",
              "    </tr>\n",
              "    <tr>\n",
              "      <th>1</th>\n",
              "      <td>20847</td>\n",
              "      <td>High</td>\n",
              "      <td>0.01</td>\n",
              "      <td>2.84</td>\n",
              "      <td>0.93</td>\n",
              "      <td>3</td>\n",
              "      <td>Bonnie Potter</td>\n",
              "      <td>Express Air</td>\n",
              "      <td>Corporate</td>\n",
              "      <td>Office Supplies</td>\n",
              "      <td>...</td>\n",
              "      <td>West</td>\n",
              "      <td>Washington</td>\n",
              "      <td>Anacortes</td>\n",
              "      <td>98221</td>\n",
              "      <td>2010-07-07</td>\n",
              "      <td>2010-07-08</td>\n",
              "      <td>4.560000</td>\n",
              "      <td>4</td>\n",
              "      <td>13.01</td>\n",
              "      <td>88522</td>\n",
              "    </tr>\n",
              "    <tr>\n",
              "      <th>2</th>\n",
              "      <td>23086</td>\n",
              "      <td>Not Specified</td>\n",
              "      <td>0.03</td>\n",
              "      <td>6.68</td>\n",
              "      <td>6.15</td>\n",
              "      <td>3</td>\n",
              "      <td>Bonnie Potter</td>\n",
              "      <td>Express Air</td>\n",
              "      <td>Corporate</td>\n",
              "      <td>Office Supplies</td>\n",
              "      <td>...</td>\n",
              "      <td>West</td>\n",
              "      <td>Washington</td>\n",
              "      <td>Anacortes</td>\n",
              "      <td>98221</td>\n",
              "      <td>2011-07-27</td>\n",
              "      <td>2011-07-28</td>\n",
              "      <td>-47.640000</td>\n",
              "      <td>7</td>\n",
              "      <td>49.92</td>\n",
              "      <td>88523</td>\n",
              "    </tr>\n",
              "    <tr>\n",
              "      <th>3</th>\n",
              "      <td>23087</td>\n",
              "      <td>Not Specified</td>\n",
              "      <td>0.01</td>\n",
              "      <td>5.68</td>\n",
              "      <td>3.60</td>\n",
              "      <td>3</td>\n",
              "      <td>Bonnie Potter</td>\n",
              "      <td>Regular Air</td>\n",
              "      <td>Corporate</td>\n",
              "      <td>Office Supplies</td>\n",
              "      <td>...</td>\n",
              "      <td>West</td>\n",
              "      <td>Washington</td>\n",
              "      <td>Anacortes</td>\n",
              "      <td>98221</td>\n",
              "      <td>2011-07-27</td>\n",
              "      <td>2011-07-28</td>\n",
              "      <td>-30.510000</td>\n",
              "      <td>7</td>\n",
              "      <td>41.64</td>\n",
              "      <td>88523</td>\n",
              "    </tr>\n",
              "    <tr>\n",
              "      <th>4</th>\n",
              "      <td>23088</td>\n",
              "      <td>Not Specified</td>\n",
              "      <td>0.00</td>\n",
              "      <td>205.99</td>\n",
              "      <td>2.50</td>\n",
              "      <td>3</td>\n",
              "      <td>Bonnie Potter</td>\n",
              "      <td>Express Air</td>\n",
              "      <td>Corporate</td>\n",
              "      <td>Technology</td>\n",
              "      <td>...</td>\n",
              "      <td>West</td>\n",
              "      <td>Washington</td>\n",
              "      <td>Anacortes</td>\n",
              "      <td>98221</td>\n",
              "      <td>2011-07-27</td>\n",
              "      <td>2011-07-27</td>\n",
              "      <td>998.202300</td>\n",
              "      <td>8</td>\n",
              "      <td>1446.67</td>\n",
              "      <td>88523</td>\n",
              "    </tr>\n",
              "    <tr>\n",
              "      <th>...</th>\n",
              "      <td>...</td>\n",
              "      <td>...</td>\n",
              "      <td>...</td>\n",
              "      <td>...</td>\n",
              "      <td>...</td>\n",
              "      <td>...</td>\n",
              "      <td>...</td>\n",
              "      <td>...</td>\n",
              "      <td>...</td>\n",
              "      <td>...</td>\n",
              "      <td>...</td>\n",
              "      <td>...</td>\n",
              "      <td>...</td>\n",
              "      <td>...</td>\n",
              "      <td>...</td>\n",
              "      <td>...</td>\n",
              "      <td>...</td>\n",
              "      <td>...</td>\n",
              "      <td>...</td>\n",
              "      <td>...</td>\n",
              "      <td>...</td>\n",
              "    </tr>\n",
              "    <tr>\n",
              "      <th>9421</th>\n",
              "      <td>20275</td>\n",
              "      <td>Critical</td>\n",
              "      <td>0.06</td>\n",
              "      <td>35.89</td>\n",
              "      <td>14.72</td>\n",
              "      <td>3402</td>\n",
              "      <td>Frederick Cole</td>\n",
              "      <td>Regular Air</td>\n",
              "      <td>Consumer</td>\n",
              "      <td>Office Supplies</td>\n",
              "      <td>...</td>\n",
              "      <td>East</td>\n",
              "      <td>West Virginia</td>\n",
              "      <td>Charleston</td>\n",
              "      <td>25314</td>\n",
              "      <td>2013-05-14</td>\n",
              "      <td>2013-05-15</td>\n",
              "      <td>137.860000</td>\n",
              "      <td>13</td>\n",
              "      <td>447.87</td>\n",
              "      <td>87532</td>\n",
              "    </tr>\n",
              "    <tr>\n",
              "      <th>9422</th>\n",
              "      <td>20276</td>\n",
              "      <td>Critical</td>\n",
              "      <td>0.00</td>\n",
              "      <td>3.34</td>\n",
              "      <td>7.49</td>\n",
              "      <td>3402</td>\n",
              "      <td>Frederick Cole</td>\n",
              "      <td>Regular Air</td>\n",
              "      <td>Consumer</td>\n",
              "      <td>Office Supplies</td>\n",
              "      <td>...</td>\n",
              "      <td>East</td>\n",
              "      <td>West Virginia</td>\n",
              "      <td>Charleston</td>\n",
              "      <td>25314</td>\n",
              "      <td>2013-05-14</td>\n",
              "      <td>2013-05-14</td>\n",
              "      <td>-39.070000</td>\n",
              "      <td>3</td>\n",
              "      <td>13.23</td>\n",
              "      <td>87532</td>\n",
              "    </tr>\n",
              "    <tr>\n",
              "      <th>9423</th>\n",
              "      <td>24491</td>\n",
              "      <td>Not Specified</td>\n",
              "      <td>0.08</td>\n",
              "      <td>550.98</td>\n",
              "      <td>45.70</td>\n",
              "      <td>3402</td>\n",
              "      <td>Frederick Cole</td>\n",
              "      <td>Delivery Truck</td>\n",
              "      <td>Consumer</td>\n",
              "      <td>Furniture</td>\n",
              "      <td>...</td>\n",
              "      <td>East</td>\n",
              "      <td>West Virginia</td>\n",
              "      <td>Charleston</td>\n",
              "      <td>25314</td>\n",
              "      <td>2013-09-12</td>\n",
              "      <td>2013-09-14</td>\n",
              "      <td>-1225.029097</td>\n",
              "      <td>4</td>\n",
              "      <td>2215.93</td>\n",
              "      <td>87533</td>\n",
              "    </tr>\n",
              "    <tr>\n",
              "      <th>9424</th>\n",
              "      <td>25914</td>\n",
              "      <td>High</td>\n",
              "      <td>0.10</td>\n",
              "      <td>105.98</td>\n",
              "      <td>13.99</td>\n",
              "      <td>3403</td>\n",
              "      <td>Tammy Buckley</td>\n",
              "      <td>Express Air</td>\n",
              "      <td>Consumer</td>\n",
              "      <td>Furniture</td>\n",
              "      <td>...</td>\n",
              "      <td>West</td>\n",
              "      <td>Wyoming</td>\n",
              "      <td>Cheyenne</td>\n",
              "      <td>82001</td>\n",
              "      <td>2010-02-08</td>\n",
              "      <td>2010-02-11</td>\n",
              "      <td>349.485000</td>\n",
              "      <td>5</td>\n",
              "      <td>506.50</td>\n",
              "      <td>87530</td>\n",
              "    </tr>\n",
              "    <tr>\n",
              "      <th>9425</th>\n",
              "      <td>24492</td>\n",
              "      <td>Not Specified</td>\n",
              "      <td>0.09</td>\n",
              "      <td>7.78</td>\n",
              "      <td>2.50</td>\n",
              "      <td>3403</td>\n",
              "      <td>Tammy Buckley</td>\n",
              "      <td>Express Air</td>\n",
              "      <td>Consumer</td>\n",
              "      <td>Office Supplies</td>\n",
              "      <td>...</td>\n",
              "      <td>West</td>\n",
              "      <td>Wyoming</td>\n",
              "      <td>Cheyenne</td>\n",
              "      <td>82001</td>\n",
              "      <td>2013-09-12</td>\n",
              "      <td>2013-09-14</td>\n",
              "      <td>78.062400</td>\n",
              "      <td>23</td>\n",
              "      <td>172.48</td>\n",
              "      <td>87533</td>\n",
              "    </tr>\n",
              "  </tbody>\n",
              "</table>\n",
              "<p>9426 rows × 24 columns</p>\n",
              "</div>\n",
              "    <div class=\"colab-df-buttons\">\n",
              "\n",
              "  <div class=\"colab-df-container\">\n",
              "    <button class=\"colab-df-convert\" onclick=\"convertToInteractive('df-f127d6d7-d3dd-4898-bf57-1455f291ab99')\"\n",
              "            title=\"Convert this dataframe to an interactive table.\"\n",
              "            style=\"display:none;\">\n",
              "\n",
              "  <svg xmlns=\"http://www.w3.org/2000/svg\" height=\"24px\" viewBox=\"0 -960 960 960\">\n",
              "    <path d=\"M120-120v-720h720v720H120Zm60-500h600v-160H180v160Zm220 220h160v-160H400v160Zm0 220h160v-160H400v160ZM180-400h160v-160H180v160Zm440 0h160v-160H620v160ZM180-180h160v-160H180v160Zm440 0h160v-160H620v160Z\"/>\n",
              "  </svg>\n",
              "    </button>\n",
              "\n",
              "  <style>\n",
              "    .colab-df-container {\n",
              "      display:flex;\n",
              "      gap: 12px;\n",
              "    }\n",
              "\n",
              "    .colab-df-convert {\n",
              "      background-color: #E8F0FE;\n",
              "      border: none;\n",
              "      border-radius: 50%;\n",
              "      cursor: pointer;\n",
              "      display: none;\n",
              "      fill: #1967D2;\n",
              "      height: 32px;\n",
              "      padding: 0 0 0 0;\n",
              "      width: 32px;\n",
              "    }\n",
              "\n",
              "    .colab-df-convert:hover {\n",
              "      background-color: #E2EBFA;\n",
              "      box-shadow: 0px 1px 2px rgba(60, 64, 67, 0.3), 0px 1px 3px 1px rgba(60, 64, 67, 0.15);\n",
              "      fill: #174EA6;\n",
              "    }\n",
              "\n",
              "    .colab-df-buttons div {\n",
              "      margin-bottom: 4px;\n",
              "    }\n",
              "\n",
              "    [theme=dark] .colab-df-convert {\n",
              "      background-color: #3B4455;\n",
              "      fill: #D2E3FC;\n",
              "    }\n",
              "\n",
              "    [theme=dark] .colab-df-convert:hover {\n",
              "      background-color: #434B5C;\n",
              "      box-shadow: 0px 1px 3px 1px rgba(0, 0, 0, 0.15);\n",
              "      filter: drop-shadow(0px 1px 2px rgba(0, 0, 0, 0.3));\n",
              "      fill: #FFFFFF;\n",
              "    }\n",
              "  </style>\n",
              "\n",
              "    <script>\n",
              "      const buttonEl =\n",
              "        document.querySelector('#df-f127d6d7-d3dd-4898-bf57-1455f291ab99 button.colab-df-convert');\n",
              "      buttonEl.style.display =\n",
              "        google.colab.kernel.accessAllowed ? 'block' : 'none';\n",
              "\n",
              "      async function convertToInteractive(key) {\n",
              "        const element = document.querySelector('#df-f127d6d7-d3dd-4898-bf57-1455f291ab99');\n",
              "        const dataTable =\n",
              "          await google.colab.kernel.invokeFunction('convertToInteractive',\n",
              "                                                    [key], {});\n",
              "        if (!dataTable) return;\n",
              "\n",
              "        const docLinkHtml = 'Like what you see? Visit the ' +\n",
              "          '<a target=\"_blank\" href=https://colab.research.google.com/notebooks/data_table.ipynb>data table notebook</a>'\n",
              "          + ' to learn more about interactive tables.';\n",
              "        element.innerHTML = '';\n",
              "        dataTable['output_type'] = 'display_data';\n",
              "        await google.colab.output.renderOutput(dataTable, element);\n",
              "        const docLink = document.createElement('div');\n",
              "        docLink.innerHTML = docLinkHtml;\n",
              "        element.appendChild(docLink);\n",
              "      }\n",
              "    </script>\n",
              "  </div>\n",
              "\n",
              "\n",
              "<div id=\"df-ce6fe74a-7c5e-4281-bea1-cf9d8e2e3980\">\n",
              "  <button class=\"colab-df-quickchart\" onclick=\"quickchart('df-ce6fe74a-7c5e-4281-bea1-cf9d8e2e3980')\"\n",
              "            title=\"Suggest charts\"\n",
              "            style=\"display:none;\">\n",
              "\n",
              "<svg xmlns=\"http://www.w3.org/2000/svg\" height=\"24px\"viewBox=\"0 0 24 24\"\n",
              "     width=\"24px\">\n",
              "    <g>\n",
              "        <path d=\"M19 3H5c-1.1 0-2 .9-2 2v14c0 1.1.9 2 2 2h14c1.1 0 2-.9 2-2V5c0-1.1-.9-2-2-2zM9 17H7v-7h2v7zm4 0h-2V7h2v10zm4 0h-2v-4h2v4z\"/>\n",
              "    </g>\n",
              "</svg>\n",
              "  </button>\n",
              "\n",
              "<style>\n",
              "  .colab-df-quickchart {\n",
              "      --bg-color: #E8F0FE;\n",
              "      --fill-color: #1967D2;\n",
              "      --hover-bg-color: #E2EBFA;\n",
              "      --hover-fill-color: #174EA6;\n",
              "      --disabled-fill-color: #AAA;\n",
              "      --disabled-bg-color: #DDD;\n",
              "  }\n",
              "\n",
              "  [theme=dark] .colab-df-quickchart {\n",
              "      --bg-color: #3B4455;\n",
              "      --fill-color: #D2E3FC;\n",
              "      --hover-bg-color: #434B5C;\n",
              "      --hover-fill-color: #FFFFFF;\n",
              "      --disabled-bg-color: #3B4455;\n",
              "      --disabled-fill-color: #666;\n",
              "  }\n",
              "\n",
              "  .colab-df-quickchart {\n",
              "    background-color: var(--bg-color);\n",
              "    border: none;\n",
              "    border-radius: 50%;\n",
              "    cursor: pointer;\n",
              "    display: none;\n",
              "    fill: var(--fill-color);\n",
              "    height: 32px;\n",
              "    padding: 0;\n",
              "    width: 32px;\n",
              "  }\n",
              "\n",
              "  .colab-df-quickchart:hover {\n",
              "    background-color: var(--hover-bg-color);\n",
              "    box-shadow: 0 1px 2px rgba(60, 64, 67, 0.3), 0 1px 3px 1px rgba(60, 64, 67, 0.15);\n",
              "    fill: var(--button-hover-fill-color);\n",
              "  }\n",
              "\n",
              "  .colab-df-quickchart-complete:disabled,\n",
              "  .colab-df-quickchart-complete:disabled:hover {\n",
              "    background-color: var(--disabled-bg-color);\n",
              "    fill: var(--disabled-fill-color);\n",
              "    box-shadow: none;\n",
              "  }\n",
              "\n",
              "  .colab-df-spinner {\n",
              "    border: 2px solid var(--fill-color);\n",
              "    border-color: transparent;\n",
              "    border-bottom-color: var(--fill-color);\n",
              "    animation:\n",
              "      spin 1s steps(1) infinite;\n",
              "  }\n",
              "\n",
              "  @keyframes spin {\n",
              "    0% {\n",
              "      border-color: transparent;\n",
              "      border-bottom-color: var(--fill-color);\n",
              "      border-left-color: var(--fill-color);\n",
              "    }\n",
              "    20% {\n",
              "      border-color: transparent;\n",
              "      border-left-color: var(--fill-color);\n",
              "      border-top-color: var(--fill-color);\n",
              "    }\n",
              "    30% {\n",
              "      border-color: transparent;\n",
              "      border-left-color: var(--fill-color);\n",
              "      border-top-color: var(--fill-color);\n",
              "      border-right-color: var(--fill-color);\n",
              "    }\n",
              "    40% {\n",
              "      border-color: transparent;\n",
              "      border-right-color: var(--fill-color);\n",
              "      border-top-color: var(--fill-color);\n",
              "    }\n",
              "    60% {\n",
              "      border-color: transparent;\n",
              "      border-right-color: var(--fill-color);\n",
              "    }\n",
              "    80% {\n",
              "      border-color: transparent;\n",
              "      border-right-color: var(--fill-color);\n",
              "      border-bottom-color: var(--fill-color);\n",
              "    }\n",
              "    90% {\n",
              "      border-color: transparent;\n",
              "      border-bottom-color: var(--fill-color);\n",
              "    }\n",
              "  }\n",
              "</style>\n",
              "\n",
              "  <script>\n",
              "    async function quickchart(key) {\n",
              "      const quickchartButtonEl =\n",
              "        document.querySelector('#' + key + ' button');\n",
              "      quickchartButtonEl.disabled = true;  // To prevent multiple clicks.\n",
              "      quickchartButtonEl.classList.add('colab-df-spinner');\n",
              "      try {\n",
              "        const charts = await google.colab.kernel.invokeFunction(\n",
              "            'suggestCharts', [key], {});\n",
              "      } catch (error) {\n",
              "        console.error('Error during call to suggestCharts:', error);\n",
              "      }\n",
              "      quickchartButtonEl.classList.remove('colab-df-spinner');\n",
              "      quickchartButtonEl.classList.add('colab-df-quickchart-complete');\n",
              "    }\n",
              "    (() => {\n",
              "      let quickchartButtonEl =\n",
              "        document.querySelector('#df-ce6fe74a-7c5e-4281-bea1-cf9d8e2e3980 button');\n",
              "      quickchartButtonEl.style.display =\n",
              "        google.colab.kernel.accessAllowed ? 'block' : 'none';\n",
              "    })();\n",
              "  </script>\n",
              "</div>\n",
              "\n",
              "  <div id=\"id_7b0ce1bd-18e5-4f8a-84fe-97baadd69b6d\">\n",
              "    <style>\n",
              "      .colab-df-generate {\n",
              "        background-color: #E8F0FE;\n",
              "        border: none;\n",
              "        border-radius: 50%;\n",
              "        cursor: pointer;\n",
              "        display: none;\n",
              "        fill: #1967D2;\n",
              "        height: 32px;\n",
              "        padding: 0 0 0 0;\n",
              "        width: 32px;\n",
              "      }\n",
              "\n",
              "      .colab-df-generate:hover {\n",
              "        background-color: #E2EBFA;\n",
              "        box-shadow: 0px 1px 2px rgba(60, 64, 67, 0.3), 0px 1px 3px 1px rgba(60, 64, 67, 0.15);\n",
              "        fill: #174EA6;\n",
              "      }\n",
              "\n",
              "      [theme=dark] .colab-df-generate {\n",
              "        background-color: #3B4455;\n",
              "        fill: #D2E3FC;\n",
              "      }\n",
              "\n",
              "      [theme=dark] .colab-df-generate:hover {\n",
              "        background-color: #434B5C;\n",
              "        box-shadow: 0px 1px 3px 1px rgba(0, 0, 0, 0.15);\n",
              "        filter: drop-shadow(0px 1px 2px rgba(0, 0, 0, 0.3));\n",
              "        fill: #FFFFFF;\n",
              "      }\n",
              "    </style>\n",
              "    <button class=\"colab-df-generate\" onclick=\"generateWithVariable('dataset')\"\n",
              "            title=\"Generate code using this dataframe.\"\n",
              "            style=\"display:none;\">\n",
              "\n",
              "  <svg xmlns=\"http://www.w3.org/2000/svg\" height=\"24px\"viewBox=\"0 0 24 24\"\n",
              "       width=\"24px\">\n",
              "    <path d=\"M7,19H8.4L18.45,9,17,7.55,7,17.6ZM5,21V16.75L18.45,3.32a2,2,0,0,1,2.83,0l1.4,1.43a1.91,1.91,0,0,1,.58,1.4,1.91,1.91,0,0,1-.58,1.4L9.25,21ZM18.45,9,17,7.55Zm-12,3A5.31,5.31,0,0,0,4.9,8.1,5.31,5.31,0,0,0,1,6.5,5.31,5.31,0,0,0,4.9,4.9,5.31,5.31,0,0,0,6.5,1,5.31,5.31,0,0,0,8.1,4.9,5.31,5.31,0,0,0,12,6.5,5.46,5.46,0,0,0,6.5,12Z\"/>\n",
              "  </svg>\n",
              "    </button>\n",
              "    <script>\n",
              "      (() => {\n",
              "      const buttonEl =\n",
              "        document.querySelector('#id_7b0ce1bd-18e5-4f8a-84fe-97baadd69b6d button.colab-df-generate');\n",
              "      buttonEl.style.display =\n",
              "        google.colab.kernel.accessAllowed ? 'block' : 'none';\n",
              "\n",
              "      buttonEl.onclick = () => {\n",
              "        google.colab.notebook.generateWithVariable('dataset');\n",
              "      }\n",
              "      })();\n",
              "    </script>\n",
              "  </div>\n",
              "\n",
              "    </div>\n",
              "  </div>\n"
            ],
            "application/vnd.google.colaboratory.intrinsic+json": {
              "type": "dataframe",
              "variable_name": "dataset"
            }
          },
          "metadata": {},
          "execution_count": 58
        }
      ]
    },
    {
      "cell_type": "code",
      "source": [
        "dataset.isnull().sum()   #Now no any where missing valuesdatas"
      ],
      "metadata": {
        "colab": {
          "base_uri": "https://localhost:8080/",
          "height": 836
        },
        "id": "fNuqW6zFdAtY",
        "outputId": "8079548a-ab59-4769-8650-ea5cdcfc1070"
      },
      "execution_count": null,
      "outputs": [
        {
          "output_type": "execute_result",
          "data": {
            "text/plain": [
              "Row ID                  0\n",
              "Order Priority          0\n",
              "Discount                0\n",
              "Unit Price              0\n",
              "Shipping Cost           0\n",
              "Customer ID             0\n",
              "Customer Name           0\n",
              "Ship Mode               0\n",
              "Customer Segment        0\n",
              "Product Category        0\n",
              "Product Sub-Category    0\n",
              "Product Container       0\n",
              "Product Name            0\n",
              "Product Base Margin     0\n",
              "Region                  0\n",
              "State or Province       0\n",
              "City                    0\n",
              "Postal Code             0\n",
              "Order Date              0\n",
              "Ship Date               0\n",
              "Profit                  0\n",
              "Quantity ordered new    0\n",
              "Sales                   0\n",
              "Order ID                0\n",
              "dtype: int64"
            ],
            "text/html": [
              "<div>\n",
              "<style scoped>\n",
              "    .dataframe tbody tr th:only-of-type {\n",
              "        vertical-align: middle;\n",
              "    }\n",
              "\n",
              "    .dataframe tbody tr th {\n",
              "        vertical-align: top;\n",
              "    }\n",
              "\n",
              "    .dataframe thead th {\n",
              "        text-align: right;\n",
              "    }\n",
              "</style>\n",
              "<table border=\"1\" class=\"dataframe\">\n",
              "  <thead>\n",
              "    <tr style=\"text-align: right;\">\n",
              "      <th></th>\n",
              "      <th>0</th>\n",
              "    </tr>\n",
              "  </thead>\n",
              "  <tbody>\n",
              "    <tr>\n",
              "      <th>Row ID</th>\n",
              "      <td>0</td>\n",
              "    </tr>\n",
              "    <tr>\n",
              "      <th>Order Priority</th>\n",
              "      <td>0</td>\n",
              "    </tr>\n",
              "    <tr>\n",
              "      <th>Discount</th>\n",
              "      <td>0</td>\n",
              "    </tr>\n",
              "    <tr>\n",
              "      <th>Unit Price</th>\n",
              "      <td>0</td>\n",
              "    </tr>\n",
              "    <tr>\n",
              "      <th>Shipping Cost</th>\n",
              "      <td>0</td>\n",
              "    </tr>\n",
              "    <tr>\n",
              "      <th>Customer ID</th>\n",
              "      <td>0</td>\n",
              "    </tr>\n",
              "    <tr>\n",
              "      <th>Customer Name</th>\n",
              "      <td>0</td>\n",
              "    </tr>\n",
              "    <tr>\n",
              "      <th>Ship Mode</th>\n",
              "      <td>0</td>\n",
              "    </tr>\n",
              "    <tr>\n",
              "      <th>Customer Segment</th>\n",
              "      <td>0</td>\n",
              "    </tr>\n",
              "    <tr>\n",
              "      <th>Product Category</th>\n",
              "      <td>0</td>\n",
              "    </tr>\n",
              "    <tr>\n",
              "      <th>Product Sub-Category</th>\n",
              "      <td>0</td>\n",
              "    </tr>\n",
              "    <tr>\n",
              "      <th>Product Container</th>\n",
              "      <td>0</td>\n",
              "    </tr>\n",
              "    <tr>\n",
              "      <th>Product Name</th>\n",
              "      <td>0</td>\n",
              "    </tr>\n",
              "    <tr>\n",
              "      <th>Product Base Margin</th>\n",
              "      <td>0</td>\n",
              "    </tr>\n",
              "    <tr>\n",
              "      <th>Region</th>\n",
              "      <td>0</td>\n",
              "    </tr>\n",
              "    <tr>\n",
              "      <th>State or Province</th>\n",
              "      <td>0</td>\n",
              "    </tr>\n",
              "    <tr>\n",
              "      <th>City</th>\n",
              "      <td>0</td>\n",
              "    </tr>\n",
              "    <tr>\n",
              "      <th>Postal Code</th>\n",
              "      <td>0</td>\n",
              "    </tr>\n",
              "    <tr>\n",
              "      <th>Order Date</th>\n",
              "      <td>0</td>\n",
              "    </tr>\n",
              "    <tr>\n",
              "      <th>Ship Date</th>\n",
              "      <td>0</td>\n",
              "    </tr>\n",
              "    <tr>\n",
              "      <th>Profit</th>\n",
              "      <td>0</td>\n",
              "    </tr>\n",
              "    <tr>\n",
              "      <th>Quantity ordered new</th>\n",
              "      <td>0</td>\n",
              "    </tr>\n",
              "    <tr>\n",
              "      <th>Sales</th>\n",
              "      <td>0</td>\n",
              "    </tr>\n",
              "    <tr>\n",
              "      <th>Order ID</th>\n",
              "      <td>0</td>\n",
              "    </tr>\n",
              "  </tbody>\n",
              "</table>\n",
              "</div><br><label><b>dtype:</b> int64</label>"
            ]
          },
          "metadata": {},
          "execution_count": 59
        }
      ]
    },
    {
      "cell_type": "code",
      "source": [
        "dataset.shape"
      ],
      "metadata": {
        "colab": {
          "base_uri": "https://localhost:8080/"
        },
        "id": "PqANtkusdRK5",
        "outputId": "6f8244f5-7cec-490e-a48b-e92dc97026c9"
      },
      "execution_count": null,
      "outputs": [
        {
          "output_type": "execute_result",
          "data": {
            "text/plain": [
              "(9426, 24)"
            ]
          },
          "metadata": {},
          "execution_count": 14
        }
      ]
    },
    {
      "cell_type": "markdown",
      "source": [
        "#Order Priority"
      ],
      "metadata": {
        "id": "9EiPNV0BrvbB"
      }
    },
    {
      "cell_type": "markdown",
      "source": [],
      "metadata": {
        "id": "VBKrtnzErvZ4"
      }
    },
    {
      "cell_type": "code",
      "source": [
        "dataset['Order Priority'].value_counts()"
      ],
      "metadata": {
        "colab": {
          "base_uri": "https://localhost:8080/",
          "height": 272
        },
        "id": "KuYWeGAIeBfr",
        "outputId": "fee274c0-94ff-4e71-f722-d1b92d4ff010"
      },
      "execution_count": null,
      "outputs": [
        {
          "output_type": "execute_result",
          "data": {
            "text/plain": [
              "Order Priority\n",
              "High             1970\n",
              "Low              1926\n",
              "Not Specified    1881\n",
              "Medium           1844\n",
              "Critical         1805\n",
              "Name: count, dtype: int64"
            ],
            "text/html": [
              "<div>\n",
              "<style scoped>\n",
              "    .dataframe tbody tr th:only-of-type {\n",
              "        vertical-align: middle;\n",
              "    }\n",
              "\n",
              "    .dataframe tbody tr th {\n",
              "        vertical-align: top;\n",
              "    }\n",
              "\n",
              "    .dataframe thead th {\n",
              "        text-align: right;\n",
              "    }\n",
              "</style>\n",
              "<table border=\"1\" class=\"dataframe\">\n",
              "  <thead>\n",
              "    <tr style=\"text-align: right;\">\n",
              "      <th></th>\n",
              "      <th>count</th>\n",
              "    </tr>\n",
              "    <tr>\n",
              "      <th>Order Priority</th>\n",
              "      <th></th>\n",
              "    </tr>\n",
              "  </thead>\n",
              "  <tbody>\n",
              "    <tr>\n",
              "      <th>High</th>\n",
              "      <td>1970</td>\n",
              "    </tr>\n",
              "    <tr>\n",
              "      <th>Low</th>\n",
              "      <td>1926</td>\n",
              "    </tr>\n",
              "    <tr>\n",
              "      <th>Not Specified</th>\n",
              "      <td>1881</td>\n",
              "    </tr>\n",
              "    <tr>\n",
              "      <th>Medium</th>\n",
              "      <td>1844</td>\n",
              "    </tr>\n",
              "    <tr>\n",
              "      <th>Critical</th>\n",
              "      <td>1805</td>\n",
              "    </tr>\n",
              "  </tbody>\n",
              "</table>\n",
              "</div><br><label><b>dtype:</b> int64</label>"
            ]
          },
          "metadata": {},
          "execution_count": 32
        }
      ]
    },
    {
      "cell_type": "code",
      "source": [
        "dataset['Order Priority'].unique()  #Find the unique values >> But here missing is space"
      ],
      "metadata": {
        "colab": {
          "base_uri": "https://localhost:8080/"
        },
        "id": "wwHDnGZ4e4qL",
        "outputId": "ab8e7c03-b86e-4336-a14d-70b1b307d3bf"
      },
      "execution_count": null,
      "outputs": [
        {
          "output_type": "execute_result",
          "data": {
            "text/plain": [
              "array(['Not Specified', 'High', 'Medium', 'Low', 'Critical', 'Critical '],\n",
              "      dtype=object)"
            ]
          },
          "metadata": {},
          "execution_count": 60
        }
      ]
    },
    {
      "cell_type": "code",
      "source": [
        "#How to remove space or replace to other word\n",
        "dataset['Order Priority']=dataset['Order Priority'].replace('Critical ', 'Critical')"
      ],
      "metadata": {
        "id": "nTTrYhwmfT9g"
      },
      "execution_count": null,
      "outputs": []
    },
    {
      "cell_type": "code",
      "source": [
        "dataset['Order Priority'].unique()"
      ],
      "metadata": {
        "colab": {
          "base_uri": "https://localhost:8080/"
        },
        "id": "RH3qU0bonPQl",
        "outputId": "87d5121e-f4be-44f7-831e-e64591aefd0a"
      },
      "execution_count": null,
      "outputs": [
        {
          "output_type": "execute_result",
          "data": {
            "text/plain": [
              "array(['Not Specified', 'High', 'Medium', 'Low', 'Critical'], dtype=object)"
            ]
          },
          "metadata": {},
          "execution_count": 62
        }
      ]
    },
    {
      "cell_type": "code",
      "source": [
        "sns.countplot(x='Order Priority', data=dataset)\n",
        "plt.figure(figsize=(5,3))\n",
        "#plt.title('Order Priority Count')\n",
        "\n",
        "plt.savefig(\"Order Priority.jpg\")\n",
        "plt.show()"
      ],
      "metadata": {
        "colab": {
          "base_uri": "https://localhost:8080/",
          "height": 466
        },
        "id": "tqaT5H3gnYZM",
        "outputId": "7afc0ddb-31cd-4468-e159-8505e1b001c3"
      },
      "execution_count": null,
      "outputs": [
        {
          "output_type": "display_data",
          "data": {
            "text/plain": [
              "<Figure size 640x480 with 1 Axes>"
            ],
            "image/png": "[encoded data removed]"
          },
          "metadata": {}
        },
        {
          "output_type": "display_data",
          "data": {
            "text/plain": [
              "<Figure size 500x300 with 0 Axes>"
            ]
          },
          "metadata": {}
        }
      ]
    },
    {
      "cell_type": "markdown",
      "source": [
        "**Conclusion**\n",
        "\n",
        "Through this code, we visualized the distribution of the Order Priority column. Through sns.countplot, we saw which order priorities have the highest and lowest frequency. From this analysis, we can get some important insights:\n",
        "\n",
        "1. Order Priority Distribution: We understood how much volume an order priority has. This will help us in taking business decisions, such as which orders should be processed first.\n",
        "\n",
        "2. Resource Allocation: If a specific priority has a higher volume, the company may need to allocate more resources for it. These insights will help in improving operational efficiency.\n",
        "\n",
        "3. Trend Analysis: If your dataset is evolving over time, then trends can be identified from this plot, such as the volume of which order priority is increasing in which period.\n",
        "Send feedback\n",
        "Side panels\n",
        "History\n",
        "Saved"
      ],
      "metadata": {
        "id": "wfQWBmYYrC8P"
      }
    },
    {
      "cell_type": "code",
      "source": [],
      "metadata": {
        "id": "rb5kJeNWoMw0"
      },
      "execution_count": null,
      "outputs": []
    },
    {
      "cell_type": "markdown",
      "source": [
        "#Shiping Mode"
      ],
      "metadata": {
        "id": "Kfx6P5RIr10A"
      }
    },
    {
      "cell_type": "code",
      "source": [
        "dataset.head(5)"
      ],
      "metadata": {
        "colab": {
          "base_uri": "https://localhost:8080/",
          "height": 377
        },
        "id": "fGwQWuXur7XR",
        "outputId": "4b574f98-a329-4bff-e066-1a886c162ebe"
      },
      "execution_count": null,
      "outputs": [
        {
          "output_type": "execute_result",
          "data": {
            "text/plain": [
              "   Row ID Order Priority  Discount  Unit Price  Shipping Cost  Customer ID  \\\n",
              "0   18606  Not Specified      0.01        2.88           0.50            2   \n",
              "1   20847           High      0.01        2.84           0.93            3   \n",
              "2   23086  Not Specified      0.03        6.68           6.15            3   \n",
              "3   23087  Not Specified      0.01        5.68           3.60            3   \n",
              "4   23088  Not Specified      0.00      205.99           2.50            3   \n",
              "\n",
              "     Customer Name    Ship Mode Customer Segment Product Category  ...  \\\n",
              "0  Janice Fletcher  Regular Air        Corporate  Office Supplies  ...   \n",
              "1    Bonnie Potter  Express Air        Corporate  Office Supplies  ...   \n",
              "2    Bonnie Potter  Express Air        Corporate  Office Supplies  ...   \n",
              "3    Bonnie Potter  Regular Air        Corporate  Office Supplies  ...   \n",
              "4    Bonnie Potter  Express Air        Corporate       Technology  ...   \n",
              "\n",
              "    Region State or Province       City  Postal Code Order Date  Ship Date  \\\n",
              "0  Central          Illinois    Addison        60101 2012-05-28 2012-05-30   \n",
              "1     West        Washington  Anacortes        98221 2010-07-07 2010-07-08   \n",
              "2     West        Washington  Anacortes        98221 2011-07-27 2011-07-28   \n",
              "3     West        Washington  Anacortes        98221 2011-07-27 2011-07-28   \n",
              "4     West        Washington  Anacortes        98221 2011-07-27 2011-07-27   \n",
              "\n",
              "     Profit  Quantity ordered new    Sales Order ID  \n",
              "0    1.3200                     2     5.90    88525  \n",
              "1    4.5600                     4    13.01    88522  \n",
              "2  -47.6400                     7    49.92    88523  \n",
              "3  -30.5100                     7    41.64    88523  \n",
              "4  998.2023                     8  1446.67    88523  \n",
              "\n",
              "[5 rows x 24 columns]"
            ],
            "text/html": [
              "\n",
              "  <div id=\"df-f515bcd4-0de0-4263-9095-58fcf2dc6426\" class=\"colab-df-container\">\n",
              "    <div>\n",
              "<style scoped>\n",
              "    .dataframe tbody tr th:only-of-type {\n",
              "        vertical-align: middle;\n",
              "    }\n",
              "\n",
              "    .dataframe tbody tr th {\n",
              "        vertical-align: top;\n",
              "    }\n",
              "\n",
              "    .dataframe thead th {\n",
              "        text-align: right;\n",
              "    }\n",
              "</style>\n",
              "<table border=\"1\" class=\"dataframe\">\n",
              "  <thead>\n",
              "    <tr style=\"text-align: right;\">\n",
              "      <th></th>\n",
              "      <th>Row ID</th>\n",
              "      <th>Order Priority</th>\n",
              "      <th>Discount</th>\n",
              "      <th>Unit Price</th>\n",
              "      <th>Shipping Cost</th>\n",
              "      <th>Customer ID</th>\n",
              "      <th>Customer Name</th>\n",
              "      <th>Ship Mode</th>\n",
              "      <th>Customer Segment</th>\n",
              "      <th>Product Category</th>\n",
              "      <th>...</th>\n",
              "      <th>Region</th>\n",
              "      <th>State or Province</th>\n",
              "      <th>City</th>\n",
              "      <th>Postal Code</th>\n",
              "      <th>Order Date</th>\n",
              "      <th>Ship Date</th>\n",
              "      <th>Profit</th>\n",
              "      <th>Quantity ordered new</th>\n",
              "      <th>Sales</th>\n",
              "      <th>Order ID</th>\n",
              "    </tr>\n",
              "  </thead>\n",
              "  <tbody>\n",
              "    <tr>\n",
              "      <th>0</th>\n",
              "      <td>18606</td>\n",
              "      <td>Not Specified</td>\n",
              "      <td>0.01</td>\n",
              "      <td>2.88</td>\n",
              "      <td>0.50</td>\n",
              "      <td>2</td>\n",
              "      <td>Janice Fletcher</td>\n",
              "      <td>Regular Air</td>\n",
              "      <td>Corporate</td>\n",
              "      <td>Office Supplies</td>\n",
              "      <td>...</td>\n",
              "      <td>Central</td>\n",
              "      <td>Illinois</td>\n",
              "      <td>Addison</td>\n",
              "      <td>60101</td>\n",
              "      <td>2012-05-28</td>\n",
              "      <td>2012-05-30</td>\n",
              "      <td>1.3200</td>\n",
              "      <td>2</td>\n",
              "      <td>5.90</td>\n",
              "      <td>88525</td>\n",
              "    </tr>\n",
              "    <tr>\n",
              "      <th>1</th>\n",
              "      <td>20847</td>\n",
              "      <td>High</td>\n",
              "      <td>0.01</td>\n",
              "      <td>2.84</td>\n",
              "      <td>0.93</td>\n",
              "      <td>3</td>\n",
              "      <td>Bonnie Potter</td>\n",
              "      <td>Express Air</td>\n",
              "      <td>Corporate</td>\n",
              "      <td>Office Supplies</td>\n",
              "      <td>...</td>\n",
              "      <td>West</td>\n",
              "      <td>Washington</td>\n",
              "      <td>Anacortes</td>\n",
              "      <td>98221</td>\n",
              "      <td>2010-07-07</td>\n",
              "      <td>2010-07-08</td>\n",
              "      <td>4.5600</td>\n",
              "      <td>4</td>\n",
              "      <td>13.01</td>\n",
              "      <td>88522</td>\n",
              "    </tr>\n",
              "    <tr>\n",
              "      <th>2</th>\n",
              "      <td>23086</td>\n",
              "      <td>Not Specified</td>\n",
              "      <td>0.03</td>\n",
              "      <td>6.68</td>\n",
              "      <td>6.15</td>\n",
              "      <td>3</td>\n",
              "      <td>Bonnie Potter</td>\n",
              "      <td>Express Air</td>\n",
              "      <td>Corporate</td>\n",
              "      <td>Office Supplies</td>\n",
              "      <td>...</td>\n",
              "      <td>West</td>\n",
              "      <td>Washington</td>\n",
              "      <td>Anacortes</td>\n",
              "      <td>98221</td>\n",
              "      <td>2011-07-27</td>\n",
              "      <td>2011-07-28</td>\n",
              "      <td>-47.6400</td>\n",
              "      <td>7</td>\n",
              "      <td>49.92</td>\n",
              "      <td>88523</td>\n",
              "    </tr>\n",
              "    <tr>\n",
              "      <th>3</th>\n",
              "      <td>23087</td>\n",
              "      <td>Not Specified</td>\n",
              "      <td>0.01</td>\n",
              "      <td>5.68</td>\n",
              "      <td>3.60</td>\n",
              "      <td>3</td>\n",
              "      <td>Bonnie Potter</td>\n",
              "      <td>Regular Air</td>\n",
              "      <td>Corporate</td>\n",
              "      <td>Office Supplies</td>\n",
              "      <td>...</td>\n",
              "      <td>West</td>\n",
              "      <td>Washington</td>\n",
              "      <td>Anacortes</td>\n",
              "      <td>98221</td>\n",
              "      <td>2011-07-27</td>\n",
              "      <td>2011-07-28</td>\n",
              "      <td>-30.5100</td>\n",
              "      <td>7</td>\n",
              "      <td>41.64</td>\n",
              "      <td>88523</td>\n",
              "    </tr>\n",
              "    <tr>\n",
              "      <th>4</th>\n",
              "      <td>23088</td>\n",
              "      <td>Not Specified</td>\n",
              "      <td>0.00</td>\n",
              "      <td>205.99</td>\n",
              "      <td>2.50</td>\n",
              "      <td>3</td>\n",
              "      <td>Bonnie Potter</td>\n",
              "      <td>Express Air</td>\n",
              "      <td>Corporate</td>\n",
              "      <td>Technology</td>\n",
              "      <td>...</td>\n",
              "      <td>West</td>\n",
              "      <td>Washington</td>\n",
              "      <td>Anacortes</td>\n",
              "      <td>98221</td>\n",
              "      <td>2011-07-27</td>\n",
              "      <td>2011-07-27</td>\n",
              "      <td>998.2023</td>\n",
              "      <td>8</td>\n",
              "      <td>1446.67</td>\n",
              "      <td>88523</td>\n",
              "    </tr>\n",
              "  </tbody>\n",
              "</table>\n",
              "<p>5 rows × 24 columns</p>\n",
              "</div>\n",
              "    <div class=\"colab-df-buttons\">\n",
              "\n",
              "  <div class=\"colab-df-container\">\n",
              "    <button class=\"colab-df-convert\" onclick=\"convertToInteractive('df-f515bcd4-0de0-4263-9095-58fcf2dc6426')\"\n",
              "            title=\"Convert this dataframe to an interactive table.\"\n",
              "            style=\"display:none;\">\n",
              "\n",
              "  <svg xmlns=\"http://www.w3.org/2000/svg\" height=\"24px\" viewBox=\"0 -960 960 960\">\n",
              "    <path d=\"M120-120v-720h720v720H120Zm60-500h600v-160H180v160Zm220 220h160v-160H400v160Zm0 220h160v-160H400v160ZM180-400h160v-160H180v160Zm440 0h160v-160H620v160ZM180-180h160v-160H180v160Zm440 0h160v-160H620v160Z\"/>\n",
              "  </svg>\n",
              "    </button>\n",
              "\n",
              "  <style>\n",
              "    .colab-df-container {\n",
              "      display:flex;\n",
              "      gap: 12px;\n",
              "    }\n",
              "\n",
              "    .colab-df-convert {\n",
              "      background-color: #E8F0FE;\n",
              "      border: none;\n",
              "      border-radius: 50%;\n",
              "      cursor: pointer;\n",
              "      display: none;\n",
              "      fill: #1967D2;\n",
              "      height: 32px;\n",
              "      padding: 0 0 0 0;\n",
              "      width: 32px;\n",
              "    }\n",
              "\n",
              "    .colab-df-convert:hover {\n",
              "      background-color: #E2EBFA;\n",
              "      box-shadow: 0px 1px 2px rgba(60, 64, 67, 0.3), 0px 1px 3px 1px rgba(60, 64, 67, 0.15);\n",
              "      fill: #174EA6;\n",
              "    }\n",
              "\n",
              "    .colab-df-buttons div {\n",
              "      margin-bottom: 4px;\n",
              "    }\n",
              "\n",
              "    [theme=dark] .colab-df-convert {\n",
              "      background-color: #3B4455;\n",
              "      fill: #D2E3FC;\n",
              "    }\n",
              "\n",
              "    [theme=dark] .colab-df-convert:hover {\n",
              "      background-color: #434B5C;\n",
              "      box-shadow: 0px 1px 3px 1px rgba(0, 0, 0, 0.15);\n",
              "      filter: drop-shadow(0px 1px 2px rgba(0, 0, 0, 0.3));\n",
              "      fill: #FFFFFF;\n",
              "    }\n",
              "  </style>\n",
              "\n",
              "    <script>\n",
              "      const buttonEl =\n",
              "        document.querySelector('#df-f515bcd4-0de0-4263-9095-58fcf2dc6426 button.colab-df-convert');\n",
              "      buttonEl.style.display =\n",
              "        google.colab.kernel.accessAllowed ? 'block' : 'none';\n",
              "\n",
              "      async function convertToInteractive(key) {\n",
              "        const element = document.querySelector('#df-f515bcd4-0de0-4263-9095-58fcf2dc6426');\n",
              "        const dataTable =\n",
              "          await google.colab.kernel.invokeFunction('convertToInteractive',\n",
              "                                                    [key], {});\n",
              "        if (!dataTable) return;\n",
              "\n",
              "        const docLinkHtml = 'Like what you see? Visit the ' +\n",
              "          '<a target=\"_blank\" href=https://colab.research.google.com/notebooks/data_table.ipynb>data table notebook</a>'\n",
              "          + ' to learn more about interactive tables.';\n",
              "        element.innerHTML = '';\n",
              "        dataTable['output_type'] = 'display_data';\n",
              "        await google.colab.output.renderOutput(dataTable, element);\n",
              "        const docLink = document.createElement('div');\n",
              "        docLink.innerHTML = docLinkHtml;\n",
              "        element.appendChild(docLink);\n",
              "      }\n",
              "    </script>\n",
              "  </div>\n",
              "\n",
              "\n",
              "<div id=\"df-e724f27a-73b2-493f-ba8e-c09a815bdf42\">\n",
              "  <button class=\"colab-df-quickchart\" onclick=\"quickchart('df-e724f27a-73b2-493f-ba8e-c09a815bdf42')\"\n",
              "            title=\"Suggest charts\"\n",
              "            style=\"display:none;\">\n",
              "\n",
              "<svg xmlns=\"http://www.w3.org/2000/svg\" height=\"24px\"viewBox=\"0 0 24 24\"\n",
              "     width=\"24px\">\n",
              "    <g>\n",
              "        <path d=\"M19 3H5c-1.1 0-2 .9-2 2v14c0 1.1.9 2 2 2h14c1.1 0 2-.9 2-2V5c0-1.1-.9-2-2-2zM9 17H7v-7h2v7zm4 0h-2V7h2v10zm4 0h-2v-4h2v4z\"/>\n",
              "    </g>\n",
              "</svg>\n",
              "  </button>\n",
              "\n",
              "<style>\n",
              "  .colab-df-quickchart {\n",
              "      --bg-color: #E8F0FE;\n",
              "      --fill-color: #1967D2;\n",
              "      --hover-bg-color: #E2EBFA;\n",
              "      --hover-fill-color: #174EA6;\n",
              "      --disabled-fill-color: #AAA;\n",
              "      --disabled-bg-color: #DDD;\n",
              "  }\n",
              "\n",
              "  [theme=dark] .colab-df-quickchart {\n",
              "      --bg-color: #3B4455;\n",
              "      --fill-color: #D2E3FC;\n",
              "      --hover-bg-color: #434B5C;\n",
              "      --hover-fill-color: #FFFFFF;\n",
              "      --disabled-bg-color: #3B4455;\n",
              "      --disabled-fill-color: #666;\n",
              "  }\n",
              "\n",
              "  .colab-df-quickchart {\n",
              "    background-color: var(--bg-color);\n",
              "    border: none;\n",
              "    border-radius: 50%;\n",
              "    cursor: pointer;\n",
              "    display: none;\n",
              "    fill: var(--fill-color);\n",
              "    height: 32px;\n",
              "    padding: 0;\n",
              "    width: 32px;\n",
              "  }\n",
              "\n",
              "  .colab-df-quickchart:hover {\n",
              "    background-color: var(--hover-bg-color);\n",
              "    box-shadow: 0 1px 2px rgba(60, 64, 67, 0.3), 0 1px 3px 1px rgba(60, 64, 67, 0.15);\n",
              "    fill: var(--button-hover-fill-color);\n",
              "  }\n",
              "\n",
              "  .colab-df-quickchart-complete:disabled,\n",
              "  .colab-df-quickchart-complete:disabled:hover {\n",
              "    background-color: var(--disabled-bg-color);\n",
              "    fill: var(--disabled-fill-color);\n",
              "    box-shadow: none;\n",
              "  }\n",
              "\n",
              "  .colab-df-spinner {\n",
              "    border: 2px solid var(--fill-color);\n",
              "    border-color: transparent;\n",
              "    border-bottom-color: var(--fill-color);\n",
              "    animation:\n",
              "      spin 1s steps(1) infinite;\n",
              "  }\n",
              "\n",
              "  @keyframes spin {\n",
              "    0% {\n",
              "      border-color: transparent;\n",
              "      border-bottom-color: var(--fill-color);\n",
              "      border-left-color: var(--fill-color);\n",
              "    }\n",
              "    20% {\n",
              "      border-color: transparent;\n",
              "      border-left-color: var(--fill-color);\n",
              "      border-top-color: var(--fill-color);\n",
              "    }\n",
              "    30% {\n",
              "      border-color: transparent;\n",
              "      border-left-color: var(--fill-color);\n",
              "      border-top-color: var(--fill-color);\n",
              "      border-right-color: var(--fill-color);\n",
              "    }\n",
              "    40% {\n",
              "      border-color: transparent;\n",
              "      border-right-color: var(--fill-color);\n",
              "      border-top-color: var(--fill-color);\n",
              "    }\n",
              "    60% {\n",
              "      border-color: transparent;\n",
              "      border-right-color: var(--fill-color);\n",
              "    }\n",
              "    80% {\n",
              "      border-color: transparent;\n",
              "      border-right-color: var(--fill-color);\n",
              "      border-bottom-color: var(--fill-color);\n",
              "    }\n",
              "    90% {\n",
              "      border-color: transparent;\n",
              "      border-bottom-color: var(--fill-color);\n",
              "    }\n",
              "  }\n",
              "</style>\n",
              "\n",
              "  <script>\n",
              "    async function quickchart(key) {\n",
              "      const quickchartButtonEl =\n",
              "        document.querySelector('#' + key + ' button');\n",
              "      quickchartButtonEl.disabled = true;  // To prevent multiple clicks.\n",
              "      quickchartButtonEl.classList.add('colab-df-spinner');\n",
              "      try {\n",
              "        const charts = await google.colab.kernel.invokeFunction(\n",
              "            'suggestCharts', [key], {});\n",
              "      } catch (error) {\n",
              "        console.error('Error during call to suggestCharts:', error);\n",
              "      }\n",
              "      quickchartButtonEl.classList.remove('colab-df-spinner');\n",
              "      quickchartButtonEl.classList.add('colab-df-quickchart-complete');\n",
              "    }\n",
              "    (() => {\n",
              "      let quickchartButtonEl =\n",
              "        document.querySelector('#df-e724f27a-73b2-493f-ba8e-c09a815bdf42 button');\n",
              "      quickchartButtonEl.style.display =\n",
              "        google.colab.kernel.accessAllowed ? 'block' : 'none';\n",
              "    })();\n",
              "  </script>\n",
              "</div>\n",
              "\n",
              "    </div>\n",
              "  </div>\n"
            ],
            "application/vnd.google.colaboratory.intrinsic+json": {
              "type": "dataframe",
              "variable_name": "dataset"
            }
          },
          "metadata": {},
          "execution_count": 46
        }
      ]
    },
    {
      "cell_type": "code",
      "source": [
        "dataset['Ship Mode'].value_counts()"
      ],
      "metadata": {
        "colab": {
          "base_uri": "https://localhost:8080/",
          "height": 209
        },
        "id": "oOEBbzoHr_me",
        "outputId": "989239af-5a63-47d3-9ed6-07216ac29ebb"
      },
      "execution_count": null,
      "outputs": [
        {
          "output_type": "execute_result",
          "data": {
            "text/plain": [
              "Ship Mode\n",
              "Regular Air       7036\n",
              "Delivery Truck    1283\n",
              "Express Air       1107\n",
              "Name: count, dtype: int64"
            ],
            "text/html": [
              "<div>\n",
              "<style scoped>\n",
              "    .dataframe tbody tr th:only-of-type {\n",
              "        vertical-align: middle;\n",
              "    }\n",
              "\n",
              "    .dataframe tbody tr th {\n",
              "        vertical-align: top;\n",
              "    }\n",
              "\n",
              "    .dataframe thead th {\n",
              "        text-align: right;\n",
              "    }\n",
              "</style>\n",
              "<table border=\"1\" class=\"dataframe\">\n",
              "  <thead>\n",
              "    <tr style=\"text-align: right;\">\n",
              "      <th></th>\n",
              "      <th>count</th>\n",
              "    </tr>\n",
              "    <tr>\n",
              "      <th>Ship Mode</th>\n",
              "      <th></th>\n",
              "    </tr>\n",
              "  </thead>\n",
              "  <tbody>\n",
              "    <tr>\n",
              "      <th>Regular Air</th>\n",
              "      <td>7036</td>\n",
              "    </tr>\n",
              "    <tr>\n",
              "      <th>Delivery Truck</th>\n",
              "      <td>1283</td>\n",
              "    </tr>\n",
              "    <tr>\n",
              "      <th>Express Air</th>\n",
              "      <td>1107</td>\n",
              "    </tr>\n",
              "  </tbody>\n",
              "</table>\n",
              "</div><br><label><b>dtype:</b> int64</label>"
            ]
          },
          "metadata": {},
          "execution_count": 8
        }
      ]
    },
    {
      "cell_type": "code",
      "source": [
        "dataset['Ship Mode'].unique()"
      ],
      "metadata": {
        "id": "mKvDH2gXsH50",
        "colab": {
          "base_uri": "https://localhost:8080/"
        },
        "outputId": "3058366c-13e1-4c59-d5bf-9d40a52c9917"
      },
      "execution_count": null,
      "outputs": [
        {
          "output_type": "execute_result",
          "data": {
            "text/plain": [
              "array(['Regular Air', 'Express Air', 'Delivery Truck'], dtype=object)"
            ]
          },
          "metadata": {},
          "execution_count": 9
        }
      ]
    },
    {
      "cell_type": "code",
      "source": [
        "x=dataset['Ship Mode'].value_counts().index\n",
        "y=dataset['Ship Mode'].value_counts().values"
      ],
      "metadata": {
        "id": "_X7zaQCOonVS"
      },
      "execution_count": null,
      "outputs": []
    },
    {
      "cell_type": "code",
      "source": [
        "plt.pie(y, labels=x, startangle=60, autopct=\"%0.2f%%\")\n",
        "plt.legend(loc=3)\n",
        "plt.figure(figsize=(5,3))\n",
        "plt.shadow\n",
        "plt.show()"
      ],
      "metadata": {
        "colab": {
          "base_uri": "https://localhost:8080/",
          "height": 423
        },
        "id": "Afz0Ne-LpI61",
        "outputId": "fe079a95-f763-41ad-ef0c-42266f3b4390"
      },
      "execution_count": null,
      "outputs": [
        {
          "output_type": "display_data",
          "data": {
            "text/plain": [
              "<Figure size 640x480 with 1 Axes>"
            ],
            "image/png": "[encoded data removed]"
          },
          "metadata": {}
        },
        {
          "output_type": "display_data",
          "data": {
            "text/plain": [
              "<Figure size 500x300 with 0 Axes>"
            ]
          },
          "metadata": {}
        }
      ]
    },
    {
      "cell_type": "markdown",
      "source": [
        "**Conclusion:**\n",
        "\n",
        "Through this code, we have visualized the distribution of the `Ship Mode` column, in which we have used a pie chart to see what percentage of each shipping mode is in the dataset. From this visualization, we can derive some important insights:\n",
        "\n",
        "1. **Shipping Mode Distribution:**\n",
        "\n",
        "- Through the pie chart, we get the insight that which shipping mode is being used more and which mode less among the different categories of `Ship Mode`.\n",
        "\n",
        "- This is important for the business, because if the usage of one shipping mode is significantly more, then focus can be done on that mode.\n",
        "\n",
        "2. **Operational Efficiency:**\n",
        "\n",
        "- If a shipping mode is used more, then the company should analyze the operational processes of that shipping mode. Is it cost-effective? Are resources being allocated efficiently to that shipping mode?\n",
        "\n",
        "3. **Customer Preferences:**\n",
        "\n",
        "- This analysis can also give us insights about customer preferences. If a specific shipping mode has more preference, then the company can optimize its operations in the direction that increases customer satisfaction.\n",
        "\n",
        "4. **Strategic Decision-Making:**\n",
        "\n",
        "- Analysis of `Ship Mode` distribution can help the company adjust its future shipping strategy. If there is more demand for a mode, then a plan can be made to provide better pricing, faster delivery, or improved service for it.\n",
        "Send feedback\n",
        "Side panels\n",
        "History\n",
        "Saved\n"
      ],
      "metadata": {
        "id": "QCMX5Moir21h"
      }
    },
    {
      "cell_type": "code",
      "source": [
        "#Product category and shiping mode\n",
        "\n",
        "#Now we check, Who product is very shell and find the category wise\n",
        "plt.figure(figsize=(6,5))\n",
        "sns.countplot(x='Ship Mode',data=dataset,hue='Product Category')\n",
        "plt.show()"
      ],
      "metadata": {
        "colab": {
          "base_uri": "https://localhost:8080/",
          "height": 465
        },
        "id": "obZ9Ynr8qrBJ",
        "outputId": "5b66d5c0-b86f-4fa8-a38b-f7c03b8410de"
      },
      "execution_count": null,
      "outputs": [
        {
          "output_type": "display_data",
          "data": {
            "text/plain": [
              "<Figure size 600x500 with 1 Axes>"
            ],
            "image/png": "[encoded data removed]"
          },
          "metadata": {}
        }
      ]
    },
    {
      "cell_type": "markdown",
      "source": [
        "**Conclusion**\n",
        "\n",
        "Using this code, we visualized the distribution between Ship Mode and Product Category. This count plot shows us which product categories are being shipped more via which shipping mode. This gives insights into which shipping mode should be prioritized for which product category, and helps optimize operational efficiency."
      ],
      "metadata": {
        "id": "zYAhV4rjs5-N"
      }
    },
    {
      "cell_type": "code",
      "source": [
        "sns.countplot(x='Product Category',data=dataset)\n",
        "plt.figure(figsize=(6,5))\n",
        "plt.show()"
      ],
      "metadata": {
        "colab": {
          "base_uri": "https://localhost:8080/",
          "height": 466
        },
        "id": "lgDtpBMRq04g",
        "outputId": "257fcacc-f6de-4ca5-b5bd-856b92742818"
      },
      "execution_count": null,
      "outputs": [
        {
          "output_type": "display_data",
          "data": {
            "text/plain": [
              "<Figure size 640x480 with 1 Axes>"
            ],
            "image/png": "[encoded data removed]"
          },
          "metadata": {}
        },
        {
          "output_type": "display_data",
          "data": {
            "text/plain": [
              "<Figure size 600x500 with 0 Axes>"
            ]
          },
          "metadata": {}
        }
      ]
    },
    {
      "cell_type": "markdown",
      "source": [
        "Divide in diffrent category and show the insight"
      ],
      "metadata": {
        "id": "ALnA3Pbm0Og1"
      }
    },
    {
      "cell_type": "code",
      "source": [
        "sns.countplot(x='Product Category',data=dataset[dataset['Product Category']=='Office Supplies'], hue='Product Sub-Category')"
      ],
      "metadata": {
        "colab": {
          "base_uri": "https://localhost:8080/",
          "height": 466
        },
        "id": "KbBfaZCD0ev0",
        "outputId": "c5bcce65-b566-4517-9459-81800180bf26"
      },
      "execution_count": null,
      "outputs": [
        {
          "output_type": "execute_result",
          "data": {
            "text/plain": [
              "<Axes: xlabel='Product Category', ylabel='count'>"
            ]
          },
          "metadata": {},
          "execution_count": 43
        },
        {
          "output_type": "display_data",
          "data": {
            "text/plain": [
              "<Figure size 640x480 with 1 Axes>"
            ],
            "image/png": "[encoded data removed]"
          },
          "metadata": {}
        }
      ]
    },
    {
      "cell_type": "markdown",
      "source": [
        "**Conclusion:**\n",
        "\n",
        "**Product Sub-Category Breakdown:** This count plot shows the distribution of different sub-categories within the Office Supplies category. This lets us know which sub-categories have more demand and which have less.\n",
        "\n",
        "**Insights for Stocking and Marketing:** If a specific sub-category has more demand, it can be prioritized to improve stocking and marketing strategy.\n",
        "\n",
        "**Operational Focus:** This analysis helps operational teams to know which sub-category needs to be managed efficiently or which product needs more focus."
      ],
      "metadata": {
        "id": "lgC60WmBtjh3"
      }
    },
    {
      "cell_type": "markdown",
      "source": [
        "Show the Technology Category"
      ],
      "metadata": {
        "id": "P3LbPRwp1h9o"
      }
    },
    {
      "cell_type": "code",
      "source": [
        "sns.countplot(x='Product Category',data=dataset[dataset['Product Category']=='Technology'], hue='Product Sub-Category')\n",
        "plt.show()"
      ],
      "metadata": {
        "colab": {
          "base_uri": "https://localhost:8080/",
          "height": 449
        },
        "id": "OvjQxmH21oKR",
        "outputId": "0faf6d7d-9725-443e-abf3-6ecc4118297d"
      },
      "execution_count": null,
      "outputs": [
        {
          "output_type": "display_data",
          "data": {
            "text/plain": [
              "<Figure size 640x480 with 1 Axes>"
            ],
            "image/png": "[encoded data removed]"
          },
          "metadata": {}
        }
      ]
    },
    {
      "cell_type": "markdown",
      "source": [
        "**Conclusion:**\n",
        "\n",
        "Through this code, we have seen the distribution of products of Technology category within Product Category, and visualized them according to Product Sub-Category. This count plot shows us which sub-categories are more in demand within the products of Technology category.\n",
        "\n",
        "Key Insights:\n",
        "\n",
        "**Technology Product Sub-Categories Breakdown:** From this plot, we get to know which sub-category (like Phones, Laptops, Accessories, etc.) is more in demand within the Technology category.\n",
        "\n",
        "**Demand Trends:** If there is high demand for a specific sub-category, the company should optimize sales and inventory management strategy by focusing on that product sub-category.\n",
        "\n",
        "**Operational Strategy:** This analysis helps the company take operational decisions, such as which sub-category to allocate more stock and resources to."
      ],
      "metadata": {
        "id": "-VX31B6nvOTG"
      }
    },
    {
      "cell_type": "markdown",
      "source": [
        "Show the Furniture Category Detals"
      ],
      "metadata": {
        "id": "se-42NvY1h8G"
      }
    },
    {
      "cell_type": "code",
      "source": [
        "sns.countplot(x='Product Category',data=dataset[dataset['Product Category']=='Furniture'], hue='Product Sub-Category')\n",
        "plt.show()"
      ],
      "metadata": {
        "colab": {
          "base_uri": "https://localhost:8080/",
          "height": 449
        },
        "id": "ee7LXmpp1f5L",
        "outputId": "d742b5cd-c67f-4686-eef5-8948641ed865"
      },
      "execution_count": null,
      "outputs": [
        {
          "output_type": "display_data",
          "data": {
            "text/plain": [
              "<Figure size 640x480 with 1 Axes>"
            ],
            "image/png": "[encoded data removed]"
          },
          "metadata": {}
        }
      ]
    },
    {
      "cell_type": "markdown",
      "source": [
        "**Conclusion:**\n",
        "\n",
        "With this code, we have seen the distribution of products of `Furniture` category within `Product Category` and analyzed them according to `Product Sub-Category`. This count plot shows us which sub-categories of `Furniture` category (like `Chairs`, `Tables`, etc.) are in more demand.\n",
        "\n",
        "**Key Insights:**\n",
        "\n",
        "- **Furniture Sub-Category Distribution:** With this plot, we get to know which sub-category is in more demand within `Furniture` category.\n",
        "\n",
        "- **Inventory and Sales Focus:** If a sub-category has high demand, the company should prioritize it for inventory management and sales strategies."
      ],
      "metadata": {
        "id": "8puxWfV0vy23"
      }
    },
    {
      "cell_type": "markdown",
      "source": [
        "How many product sold in a year"
      ],
      "metadata": {
        "id": "Qfsf1iZd3Vhs"
      }
    },
    {
      "cell_type": "code",
      "source": [
        "dataset.info()"
      ],
      "metadata": {
        "colab": {
          "base_uri": "https://localhost:8080/"
        },
        "id": "AzxGgA06AC-N",
        "outputId": "83a6cedf-3480-4fd8-e920-2615ad285486"
      },
      "execution_count": null,
      "outputs": [
        {
          "output_type": "stream",
          "name": "stdout",
          "text": [
            "<class 'pandas.core.frame.DataFrame'>\n",
            "RangeIndex: 9426 entries, 0 to 9425\n",
            "Data columns (total 24 columns):\n",
            " #   Column                Non-Null Count  Dtype         \n",
            "---  ------                --------------  -----         \n",
            " 0   Row ID                9426 non-null   int64         \n",
            " 1   Order Priority        9426 non-null   object        \n",
            " 2   Discount              9426 non-null   float64       \n",
            " 3   Unit Price            9426 non-null   float64       \n",
            " 4   Shipping Cost         9426 non-null   float64       \n",
            " 5   Customer ID           9426 non-null   int64         \n",
            " 6   Customer Name         9426 non-null   object        \n",
            " 7   Ship Mode             9426 non-null   object        \n",
            " 8   Customer Segment      9426 non-null   object        \n",
            " 9   Product Category      9426 non-null   object        \n",
            " 10  Product Sub-Category  9426 non-null   object        \n",
            " 11  Product Container     9426 non-null   object        \n",
            " 12  Product Name          9426 non-null   object        \n",
            " 13  Product Base Margin   9354 non-null   float64       \n",
            " 14  Region                9426 non-null   object        \n",
            " 15  State or Province     9426 non-null   object        \n",
            " 16  City                  9426 non-null   object        \n",
            " 17  Postal Code           9426 non-null   int64         \n",
            " 18  Order Date            9426 non-null   datetime64[ns]\n",
            " 19  Ship Date             9426 non-null   datetime64[ns]\n",
            " 20  Profit                9426 non-null   float64       \n",
            " 21  Quantity ordered new  9426 non-null   int64         \n",
            " 22  Sales                 9426 non-null   float64       \n",
            " 23  Order ID              9426 non-null   int64         \n",
            "dtypes: datetime64[ns](2), float64(6), int64(5), object(11)\n",
            "memory usage: 1.7+ MB\n"
          ]
        }
      ]
    },
    {
      "cell_type": "code",
      "source": [
        "# .dt (Datetime Accessor)\n",
        "# .year >>> Extracts only the year part from each date.\n",
        "# Ex. >>> If Order Date = 2023-05-20, then .dt.year returns 2023.\n",
        "\n",
        "dataset['Order Date'].dt.year"
      ],
      "metadata": {
        "colab": {
          "base_uri": "https://localhost:8080/",
          "height": 458
        },
        "id": "aa02500a1fDk",
        "outputId": "d62976bf-cdac-4e53-e2a2-62c8441a2c38"
      },
      "execution_count": null,
      "outputs": [
        {
          "output_type": "execute_result",
          "data": {
            "text/plain": [
              "0       2012\n",
              "1       2010\n",
              "2       2011\n",
              "3       2011\n",
              "4       2011\n",
              "        ... \n",
              "9421    2013\n",
              "9422    2013\n",
              "9423    2013\n",
              "9424    2010\n",
              "9425    2013\n",
              "Name: Order Date, Length: 9426, dtype: int32"
            ],
            "text/html": [
              "<div>\n",
              "<style scoped>\n",
              "    .dataframe tbody tr th:only-of-type {\n",
              "        vertical-align: middle;\n",
              "    }\n",
              "\n",
              "    .dataframe tbody tr th {\n",
              "        vertical-align: top;\n",
              "    }\n",
              "\n",
              "    .dataframe thead th {\n",
              "        text-align: right;\n",
              "    }\n",
              "</style>\n",
              "<table border=\"1\" class=\"dataframe\">\n",
              "  <thead>\n",
              "    <tr style=\"text-align: right;\">\n",
              "      <th></th>\n",
              "      <th>Order Date</th>\n",
              "    </tr>\n",
              "  </thead>\n",
              "  <tbody>\n",
              "    <tr>\n",
              "      <th>0</th>\n",
              "      <td>2012</td>\n",
              "    </tr>\n",
              "    <tr>\n",
              "      <th>1</th>\n",
              "      <td>2010</td>\n",
              "    </tr>\n",
              "    <tr>\n",
              "      <th>2</th>\n",
              "      <td>2011</td>\n",
              "    </tr>\n",
              "    <tr>\n",
              "      <th>3</th>\n",
              "      <td>2011</td>\n",
              "    </tr>\n",
              "    <tr>\n",
              "      <th>4</th>\n",
              "      <td>2011</td>\n",
              "    </tr>\n",
              "    <tr>\n",
              "      <th>...</th>\n",
              "      <td>...</td>\n",
              "    </tr>\n",
              "    <tr>\n",
              "      <th>9421</th>\n",
              "      <td>2013</td>\n",
              "    </tr>\n",
              "    <tr>\n",
              "      <th>9422</th>\n",
              "      <td>2013</td>\n",
              "    </tr>\n",
              "    <tr>\n",
              "      <th>9423</th>\n",
              "      <td>2013</td>\n",
              "    </tr>\n",
              "    <tr>\n",
              "      <th>9424</th>\n",
              "      <td>2010</td>\n",
              "    </tr>\n",
              "    <tr>\n",
              "      <th>9425</th>\n",
              "      <td>2013</td>\n",
              "    </tr>\n",
              "  </tbody>\n",
              "</table>\n",
              "<p>9426 rows × 1 columns</p>\n",
              "</div><br><label><b>dtype:</b> int32</label>"
            ]
          },
          "metadata": {},
          "execution_count": 51
        }
      ]
    },
    {
      "cell_type": "code",
      "source": [
        "dataset['Order Year'] = dataset['Order Date'].dt.year"
      ],
      "metadata": {
        "id": "Z8JZxJu_AStu"
      },
      "execution_count": null,
      "outputs": []
    },
    {
      "cell_type": "code",
      "source": [
        "dataset['Order Year'].value_counts()"
      ],
      "metadata": {
        "colab": {
          "base_uri": "https://localhost:8080/",
          "height": 241
        },
        "id": "LFll-7H4_4X3",
        "outputId": "7dcec5ac-cb72-41ab-b3a1-849d266bf398"
      },
      "execution_count": null,
      "outputs": [
        {
          "output_type": "execute_result",
          "data": {
            "text/plain": [
              "Order Year\n",
              "2013    3054\n",
              "2012    2241\n",
              "2011    2179\n",
              "2010    1952\n",
              "Name: count, dtype: int64"
            ],
            "text/html": [
              "<div>\n",
              "<style scoped>\n",
              "    .dataframe tbody tr th:only-of-type {\n",
              "        vertical-align: middle;\n",
              "    }\n",
              "\n",
              "    .dataframe tbody tr th {\n",
              "        vertical-align: top;\n",
              "    }\n",
              "\n",
              "    .dataframe thead th {\n",
              "        text-align: right;\n",
              "    }\n",
              "</style>\n",
              "<table border=\"1\" class=\"dataframe\">\n",
              "  <thead>\n",
              "    <tr style=\"text-align: right;\">\n",
              "      <th></th>\n",
              "      <th>count</th>\n",
              "    </tr>\n",
              "    <tr>\n",
              "      <th>Order Year</th>\n",
              "      <th></th>\n",
              "    </tr>\n",
              "  </thead>\n",
              "  <tbody>\n",
              "    <tr>\n",
              "      <th>2013</th>\n",
              "      <td>3054</td>\n",
              "    </tr>\n",
              "    <tr>\n",
              "      <th>2012</th>\n",
              "      <td>2241</td>\n",
              "    </tr>\n",
              "    <tr>\n",
              "      <th>2011</th>\n",
              "      <td>2179</td>\n",
              "    </tr>\n",
              "    <tr>\n",
              "      <th>2010</th>\n",
              "      <td>1952</td>\n",
              "    </tr>\n",
              "  </tbody>\n",
              "</table>\n",
              "</div><br><label><b>dtype:</b> int64</label>"
            ]
          },
          "metadata": {},
          "execution_count": 55
        }
      ]
    },
    {
      "cell_type": "code",
      "source": [
        "sns.countplot(x='Order Year', data=dataset)\n",
        "plt.show()"
      ],
      "metadata": {
        "colab": {
          "base_uri": "https://localhost:8080/",
          "height": 449
        },
        "id": "LxQCH86GCgLo",
        "outputId": "b4f2472d-0e26-4985-a750-28edba926895"
      },
      "execution_count": null,
      "outputs": [
        {
          "output_type": "display_data",
          "data": {
            "text/plain": [
              "<Figure size 640x480 with 1 Axes>"
            ],
            "image/png": "[encoded data removed]"
          },
          "metadata": {}
        }
      ]
    },
    {
      "cell_type": "markdown",
      "source": [
        "Find category wise profites"
      ],
      "metadata": {
        "id": "4nNfuO0VDNiM"
      }
    },
    {
      "cell_type": "code",
      "source": [
        "sns.barplot(x='Product Category',y='Profit',data=dataset, estimator='sum')\n",
        "plt.show()"
      ],
      "metadata": {
        "colab": {
          "base_uri": "https://localhost:8080/",
          "height": 449
        },
        "id": "c5q14smNDRvy",
        "outputId": "bbbddc83-73cc-46c0-9111-66828a11a186"
      },
      "execution_count": null,
      "outputs": [
        {
          "output_type": "display_data",
          "data": {
            "text/plain": [
              "<Figure size 640x480 with 1 Axes>"
            ],
            "image/png": "[encoded data removed]"
          },
          "metadata": {}
        }
      ]
    },
    {
      "cell_type": "markdown",
      "source": [
        "**Conclusion:**\n",
        "\n",
        "Through this code, we have created a bar plot of total profit for `Product Category`. Using `sns.barplot` function, we have calculated the sum (`estimator='sum'`) of total profit (`y='Profit'`) for each `Product Category`.\n",
        "\n",
        "**Key Insights:**\n",
        "\n",
        "- **Total Profit by Product Category:** This plot gives us a comparison of total profit for each product category, which shows us which product categories are generating the most profit.\n",
        "\n",
        "- **Profit Optimization:** If a specific category has higher profits, the company should implement strategies to further optimize that category, such as targeted marketing or sales promotions.\n",
        "\n",
        "- **Strategic Decision Making:** This analysis helps the company understand the profitability of product categories, which can influence future strategies and resource allocation decisions."
      ],
      "metadata": {
        "id": "mtd8IukWwTG2"
      }
    },
    {
      "cell_type": "markdown",
      "source": [
        "State wise product sells"
      ],
      "metadata": {
        "id": "bbSO20j-Ev1D"
      }
    },
    {
      "cell_type": "code",
      "source": [
        "#dataset['State or Province'].value_counts()  #All states show\n",
        "\n",
        "dataset['State or Province'].value_counts()[:5]  #Show top 5 states"
      ],
      "metadata": {
        "colab": {
          "base_uri": "https://localhost:8080/",
          "height": 272
        },
        "id": "2I0aHaRHEvUN",
        "outputId": "8dd1616d-5f73-4257-e3a4-2766016ddf05"
      },
      "execution_count": null,
      "outputs": [
        {
          "output_type": "execute_result",
          "data": {
            "text/plain": [
              "State or Province\n",
              "California    1021\n",
              "Texas          646\n",
              "Illinois       584\n",
              "New York       574\n",
              "Florida        522\n",
              "Name: count, dtype: int64"
            ],
            "text/html": [
              "<div>\n",
              "<style scoped>\n",
              "    .dataframe tbody tr th:only-of-type {\n",
              "        vertical-align: middle;\n",
              "    }\n",
              "\n",
              "    .dataframe tbody tr th {\n",
              "        vertical-align: top;\n",
              "    }\n",
              "\n",
              "    .dataframe thead th {\n",
              "        text-align: right;\n",
              "    }\n",
              "</style>\n",
              "<table border=\"1\" class=\"dataframe\">\n",
              "  <thead>\n",
              "    <tr style=\"text-align: right;\">\n",
              "      <th></th>\n",
              "      <th>count</th>\n",
              "    </tr>\n",
              "    <tr>\n",
              "      <th>State or Province</th>\n",
              "      <th></th>\n",
              "    </tr>\n",
              "  </thead>\n",
              "  <tbody>\n",
              "    <tr>\n",
              "      <th>California</th>\n",
              "      <td>1021</td>\n",
              "    </tr>\n",
              "    <tr>\n",
              "      <th>Texas</th>\n",
              "      <td>646</td>\n",
              "    </tr>\n",
              "    <tr>\n",
              "      <th>Illinois</th>\n",
              "      <td>584</td>\n",
              "    </tr>\n",
              "    <tr>\n",
              "      <th>New York</th>\n",
              "      <td>574</td>\n",
              "    </tr>\n",
              "    <tr>\n",
              "      <th>Florida</th>\n",
              "      <td>522</td>\n",
              "    </tr>\n",
              "  </tbody>\n",
              "</table>\n",
              "</div><br><label><b>dtype:</b> int64</label>"
            ]
          },
          "metadata": {},
          "execution_count": 63
        }
      ]
    },
    {
      "cell_type": "code",
      "source": [
        "sns.barplot(x='Product Category',y='Product Base Margin',data=dataset, estimator='sum')\n",
        "plt.show()"
      ],
      "metadata": {
        "colab": {
          "base_uri": "https://localhost:8080/",
          "height": 453
        },
        "id": "x0oew67BGODc",
        "outputId": "69c0cb10-d8ff-4120-cefe-99d52120ad7b"
      },
      "execution_count": null,
      "outputs": [
        {
          "output_type": "display_data",
          "data": {
            "text/plain": [
              "<Figure size 640x480 with 1 Axes>"
            ],
            "image/png": "[encoded data removed]"
          },
          "metadata": {}
        }
      ]
    },
    {
      "cell_type": "markdown",
      "source": [
        "**Conclusion:**\n",
        "\n",
        "With this code, we have created a bar plot of total `Product Base Margin` for `Product Category`. This shows us which product categories are generating the highest margin.\n",
        "\n",
        "**Key Insights:**\n",
        "\n",
        "- **Margin Comparison:** Shows the comparison of total base margin of each product category.\n",
        "\n",
        "- **Profitability Focus:** Focus on optimizing high-margin categories.\n",
        "\n",
        "- **Strategic Decisions:** These insights help guide pricing and profitability strategies.\n",
        "\n",
        "In short, this analysis helps in understanding `Product Base Margin`, which is useful in optimizing profitability and business strategy."
      ],
      "metadata": {
        "id": "BoerVrVNw0U3"
      }
    },
    {
      "cell_type": "markdown",
      "source": [
        "#Customer Segment"
      ],
      "metadata": {
        "id": "yl9zpdIpxKWT"
      }
    },
    {
      "cell_type": "code",
      "source": [
        "sns.countplot(x='Customer Segment', data=dataset)\n",
        "plt.show()"
      ],
      "metadata": {
        "colab": {
          "base_uri": "https://localhost:8080/",
          "height": 450
        },
        "id": "XyQ9V-3HxOKB",
        "outputId": "81001388-fd5c-4c4b-a54e-011b0f037a95"
      },
      "execution_count": null,
      "outputs": [
        {
          "output_type": "display_data",
          "data": {
            "text/plain": [
              "<Figure size 640x480 with 1 Axes>"
            ],
            "image/png": "[encoded data removed]"
          },
          "metadata": {}
        }
      ]
    },
    {
      "cell_type": "code",
      "source": [],
      "metadata": {
        "id": "q5cHU8MIxcU5"
      },
      "execution_count": null,
      "outputs": []
    },
    {
      "cell_type": "markdown",
      "source": [
        "**Conclusion:**\n",
        "\n",
        "With this code, we have created a count plot of `Customer Segment` distribution, which shows the frequency count for each customer segment.\n",
        "\n",
        "**Key Insights:**\n",
        "\n",
        "- **Customer Segment Distribution:** This plot tells us the size of each customer segment, such as which segment has more customers and which segment has less.\n",
        "\n",
        "- **Targeting Strategy:** If the size of a specific segment is more, then marketing and sales strategies can be optimized to target that segment.\n",
        "- **Segmentation Insights:** This analysis helps understand customer segments, which can improve customer-specific strategies and resource allocation decisions."
      ],
      "metadata": {
        "id": "ByZFxIurxVSP"
      }
    }
  ],
  "metadata": {
    "colab": {
      "provenance": []
    },
    "kernelspec": {
      "display_name": "Python 3",
      "name": "python3"
    },
    "language_info": {
      "name": "python"
    }
  },
  "nbformat": 4,
  "nbformat_minor": 0
}